{
 "cells": [
  {
   "cell_type": "markdown",
   "metadata": {},
   "source": [
    "Load libraries"
   ]
  },
  {
   "cell_type": "code",
   "execution_count": 1,
   "metadata": {},
   "outputs": [],
   "source": [
    "import numpy as np\n",
    "import pandas as pd\n",
    "import pickle as pkl\n",
    "import warnings\n",
    "from tqdm import tqdm\n",
    "\n",
    "PATH =  \"/home/jmurga/mkt/201902\"\n",
    "import sys\n",
    "sys.path.insert(0, PATH + '/scripts/src/')\n",
    "from mktAnalysis import *"
   ]
  },
  {
   "cell_type": "markdown",
   "metadata": {},
   "source": [
    "Load main data"
   ]
  },
  {
   "cell_type": "code",
   "execution_count": 2,
   "metadata": {},
   "outputs": [],
   "source": [
    "dmelDataset  = pd.read_csv(PATH + \"/results/dsimDmelSitesBinned.tsv\",sep='\\t')\n",
    "humanDataset = pd.read_csv(PATH + \"/results/afrEur.tsv\",sep='\\t')"
   ]
  },
  {
   "cell_type": "code",
   "execution_count": 3,
   "metadata": {},
   "outputs": [],
   "source": [
    "%load_ext rpy2.ipython"
   ]
  },
  {
   "cell_type": "code",
   "execution_count": 4,
   "metadata": {},
   "outputs": [],
   "source": [
    "def bEstimates(sfs,d,m,geneId,population,replica):\n",
    "\n",
    "\t# Execute each mkt test through Analytical.jl\n",
    "\t## StandardMKT\n",
    "\tdataset =  str(replica) + '_concat'\n",
    "\n",
    "\tcheckDaf = sfs[sfs[:,0] > 0.25,:]\n",
    "\tif((np.sum(checkDaf[:,1]) == 0) | (np.sum(checkDaf[:,2]) == 0)):\n",
    "\t\timp2 = {\"alpha\":np.nan,\"pvalue\":np.nan}\n",
    "\telse:\n",
    "\t\timp2 = impMK(sfs=sfs,divergence=d,m=m,l=0.25);\n",
    "\n",
    "\n",
    "\ttmp = pd.DataFrame([dataset,population,imp2['alpha'],imp2['b'],imp2['f'],imp2['d']]).T\n",
    "\ttmp.columns= [\"id\",\"pop\",\"alpha\",\"b\",\"f\",\"d\"]\n",
    "\n",
    "\treturn(tmp)\n"
   ]
  },
  {
   "cell_type": "markdown",
   "metadata": {
    "tags": []
   },
   "source": [
    "# Recombination analysis"
   ]
  },
  {
   "cell_type": "code",
   "execution_count": 8,
   "metadata": {},
   "outputs": [],
   "source": [
    "bins = np.arange(0,15)"
   ]
  },
  {
   "cell_type": "markdown",
   "metadata": {
    "heading_collapsed": true,
    "tags": []
   },
   "source": [
    "## Zi"
   ]
  },
  {
   "cell_type": "code",
   "execution_count": 17,
   "metadata": {
    "hidden": true
   },
   "outputs": [],
   "source": [
    "alphasZiRecomb = []\n",
    "binnedZiRecomb = []\n",
    "with warnings.catch_warnings():\n",
    "    warnings.simplefilter('ignore')\n",
    "    for i in tqdm(bins):\n",
    "        a, b = sampleAnalysis(df = dmelDataset,population=\"ZI\",sample=None,replicas=100,dofe=PATH + \"/rawData/dofe/recomb\",nthreads=7,recombBin=i,bins=bins.shape[0])\n",
    "        alphasZiRecomb.append(a)\n",
    "        binnedZiRecomb.append(b)\n",
    "alphasZiRecomb = pd.concat(alphasZiRecomb)\n",
    "binnedZiRecomb = pd.concat(binnedZiRecomb)"
   ]
  },
  {
   "cell_type": "code",
   "execution_count": 18,
   "metadata": {
    "hidden": true
   },
   "outputs": [],
   "source": [
    "df = list()\n",
    "for i in bins:\n",
    "    tmp,tmp2,tmp3 = grapesOutput(PATH + \"/rawData/dofe/recomb/zi/\"+str(i)+\"/\",\"GammaZero\",\"ZI\",7)\n",
    "    tmp['pop']  = 'ZI'\n",
    "    tmp['bins'] = alphasZiRecomb.bins.unique()[i]\n",
    "    tmp['pvalue'] = np.nan\n",
    "    tmp = tmp.loc[:,['dataset','pop','alpha','pvalue','test','bins']]\n",
    "    tmp.columns = ['id','pop','alpha','pvalue','test','bins']\n",
    "    df.append(tmp)\n",
    "grapesRecombZi = pd.concat(df)"
   ]
  },
  {
   "cell_type": "code",
   "execution_count": 19,
   "metadata": {
    "hidden": true
   },
   "outputs": [],
   "source": [
    "df = pd.concat([alphasZiRecomb,grapesRecombZi])\n",
    "df.bins = pd.Categorical(df.bins,categories = df.bins.unique())\n",
    "df.test = pd.Categorical(df.test,categories = df.test.unique());\n",
    "df"
   ]
  },
  {
   "cell_type": "code",
   "execution_count": 33,
   "metadata": {
    "hidden": true
   },
   "outputs": [],
   "source": [
    "binnedZiRecomb"
   ]
  },
  {
   "cell_type": "code",
   "execution_count": 20,
   "metadata": {
    "hidden": true
   },
   "outputs": [],
   "source": [
    "pkl.dump([df,binnedZiRecomb], open(PATH + \"/results/recomb/ziRecomb.pkl\", \"wb\" ))"
   ]
  },
  {
   "cell_type": "markdown",
   "metadata": {
    "tags": []
   },
   "source": [
    "## AFR"
   ]
  },
  {
   "cell_type": "code",
   "execution_count": null,
   "metadata": {},
   "outputs": [],
   "source": [
    "alphasAfrRecomb = []\n",
    "binnedAfrRecomb = []\n",
    "with warnings.catch_warnings():\n",
    "    warnings.simplefilter('ignore')\n",
    "    for i in tqdm(bins):\n",
    "        a, b = sampleAnalysis(df = humanDataset,population=\"AFR\",sample=None,replicas=100,dofe=PATH + \"/rawData/otherDofe/recomb\",nthreads=7,recombBin=i,bins=bins.shape[0])\n",
    "        alphasAfrRecomb.append(a)\n",
    "        binnedAfrRecomb.append(b)\n",
    "alphasAfrRecomb = pd.concat(alphasAfrRecomb)\n",
    "binnedAfrRecomb = pd.concat(binnedAfrRecomb)"
   ]
  },
  {
   "cell_type": "code",
   "execution_count": 18,
   "metadata": {},
   "outputs": [],
   "source": [
    "df = list()\n",
    "for i in bins:\n",
    "    tmp,tmp2,tmp3 = grapesOutput(PATH + \"/rawData/dofe/recomb/afr/\"+str(i)+\"/\",\"GammaZero\",\"AFR\",7)\n",
    "    tmp['pop']  = 'AFR'\n",
    "    tmp['bins'] = alphasAfrRecomb.bins.unique()[i]\n",
    "    tmp['pvalue'] = np.nan\n",
    "    tmp = tmp.loc[:,['dataset','pop','alpha','pvalue','test','bins']]\n",
    "    tmp.columns = ['id','pop','alpha','pvalue','test','bins']\n",
    "    df.append(tmp)\n",
    "grapesRecombAfr = pd.concat(df)"
   ]
  },
  {
   "cell_type": "code",
   "execution_count": 19,
   "metadata": {},
   "outputs": [],
   "source": [
    "df = pd.concat([alphasAfrRecomb,grapesRecombAfr])\n",
    "df.bins = pd.Categorical(df.bins,categories = df.bins.unique())\n",
    "df.test = pd.Categorical(df.test,categories = df.test.unique())"
   ]
  },
  {
   "cell_type": "code",
   "execution_count": 37,
   "metadata": {},
   "outputs": [],
   "source": [
    "df = alphasAfrRecomb\n",
    "df.bins = pd.Categorical(df.bins,categories = df.bins.unique())\n",
    "df.test = pd.Categorical(df.test,categories = df.test.unique())"
   ]
  },
  {
   "cell_type": "code",
   "execution_count": 38,
   "metadata": {},
   "outputs": [],
   "source": [
    "pkl.dump([df,binnedAfrRecomb], open(PATH + \"/results/recomb/afrRecomb.pkl\", \"wb\" ))"
   ]
  },
  {
   "cell_type": "markdown",
   "metadata": {
    "tags": []
   },
   "source": [
    "# Plots"
   ]
  },
  {
   "cell_type": "markdown",
   "metadata": {},
   "source": [
    "Loading data from pickle and formating to plot in R"
   ]
  },
  {
   "cell_type": "code",
   "execution_count": 39,
   "metadata": {},
   "outputs": [],
   "source": [
    "alphas, binned = loadPickleAlphas(PATH + \"/results/recomb/*Recomb.pkl\")"
   ]
  },
  {
   "cell_type": "markdown",
   "metadata": {
    "heading_collapsed": true,
    "tags": []
   },
   "source": [
    "## ZI"
   ]
  },
  {
   "cell_type": "code",
   "execution_count": 7,
   "metadata": {
    "hidden": true
   },
   "outputs": [],
   "source": [
    "alphasZiRecomb = alphas['ziRecomb.pkl']; binnedZiRecomb = binned['ziRecomb.pkl']"
   ]
  },
  {
   "cell_type": "code",
   "execution_count": 8,
   "metadata": {
    "hidden": true
   },
   "outputs": [],
   "source": [
    "alphasZiRecomb.bins = pd.Categorical(alphasZiRecomb.bins,categories = alphasZiRecomb.bins.unique())\n",
    "alphasZiRecomb.test = pd.Categorical(alphasZiRecomb.test,categories = alphasZiRecomb.test.unique())"
   ]
  },
  {
   "cell_type": "code",
   "execution_count": 9,
   "metadata": {
    "hidden": true
   },
   "outputs": [],
   "source": [
    "alphasZiRecomb = alphasZiRecomb[(alphasZiRecomb.test != 'emkt1') & (alphasZiRecomb.test != 'fww1') & (alphasZiRecomb.test != 'imp1') & (alphasZiRecomb.test != 'asymp2')]"
   ]
  },
  {
   "cell_type": "code",
   "execution_count": 10,
   "metadata": {
    "hidden": true
   },
   "outputs": [
    {
     "data": {
      "image/png": "[encoded data removed]"
     },
     "metadata": {},
     "output_type": "display_data"
    }
   ],
   "source": [
    "%%R -i alphasZiRecomb  -i PATH\n",
    "\n",
    "df = as.data.table(alphasZiRecomb)\n",
    "\n",
    "df = df[test != 'asymp2']\n",
    "\n",
    "p = ggplot(df, aes(x = bins, y = value, fill =test)) + geom_boxplot( color = \"grey20\",alpha = 0.7) + theme_bw() + scale_x_discrete(name = \"Recombination rate categories\") +  scale_fill_manual(values=c(\"#30504f\",\"#e2bd9a\",\"#ab2710\",\"#53cf53\",\"#AEB782\",\"#5C8FCE\"),name=\"Method\", labels = c(\"std\" = \"MKT\", \"emkt2\" = \"eMKT 25%\", \"fww1\" = \"fwwMKT 25%\", \"fww2\" = \"fwwMKT  25%\", \"imp2\" = \"impMKT 25%\",\"asymp1\" = \"aMKT\",\"grapes\" = \"Grapes\")) + theme(strip.text=element_text(size=14),axis.text.x = element_text(size=10,angle=45,hjust=1,vjust=1),axis.text.y = element_text(size=14),axis.title=element_text(size=14),legend.position=\"right\",legend.text=element_text(size=14)) + ylab(expression(alpha))\n",
    "\n",
    "ggsave(p,filename = paste0(PATH,'/results/recomb/ziRecomb.svg'),dpi=600,width=10,height=7)\n",
    "ggsave(p,filename = paste0(PATH,'/results/recomb/ziRecomb.png'),dpi=600,width=10,height=7)\n",
    "\n",
    "p"
   ]
  },
  {
   "cell_type": "code",
   "execution_count": 23,
   "metadata": {
    "hidden": true
   },
   "outputs": [
    {
     "name": "stderr",
     "output_type": "stream",
     "text": [
      "100%|██████████| 15/15 [00:19<00:00,  1.31s/it]\n"
     ]
    }
   ],
   "source": [
    "df = dmelDataset\n",
    "\n",
    "tmp = df[df['pop'] == 'ZI']\n",
    "b = []\n",
    "replicas = 100\n",
    "population = 'ZI'\n",
    "\n",
    "bins = np.arange(15)\n",
    "\n",
    "with warnings.catch_warnings():\n",
    "    warnings.simplefilter('ignore')\n",
    "    for i in tqdm(bins):\n",
    "\n",
    "        sampling, grp = binByRecombRate(tmp,replicas,i,bins.shape[0])\n",
    "\n",
    "        pool = Pool(processes = 7)\n",
    "        lSfs,lDiv,lM,genes = zip(*pool.starmap(parseBinnedSfs,zip([df]*replicas,[population]*replicas,sampling)))\n",
    "        pool.terminate()\n",
    "\n",
    "        pool = Pool(processes = 7)\n",
    "        tmpB = pool.starmap(bEstimates,zip(lSfs,lDiv,lM,genes,[population]*replicas,np.arange(1,replicas+1).tolist()))\n",
    "        pool.terminate()\n",
    "        tmpB = pd.concat(tmpB)\n",
    "        tmpB['bins'] = grp\n",
    "        b.append(tmpB)\n",
    "\n",
    "    b = pd.concat(b)"
   ]
  },
  {
   "cell_type": "code",
   "execution_count": 24,
   "metadata": {
    "hidden": true
   },
   "outputs": [],
   "source": [
    "b.alpha = b.alpha.astype(float)\n",
    "b.b     = b.b.astype(float)\n",
    "b.f     = b.f.astype(float)\n",
    "b.d     = b.d.astype(float)"
   ]
  },
  {
   "cell_type": "code",
   "execution_count": 25,
   "metadata": {
    "hidden": true
   },
   "outputs": [
    {
     "data": {
      "image/png": "[encoded data removed]"
     },
     "metadata": {},
     "output_type": "display_data"
    }
   ],
   "source": [
    "%%R -i b -i PATH\n",
    "\n",
    "b = as.data.table(b)\n",
    "b[['bins']] = as.factor(b[['bins']])\n",
    "\n",
    "pB = ggplot(b,aes(x=bins,y=b,fill=bins))+ geom_boxplot(show.legend=F) + scale_fill_viridis_d() + theme_bw() + theme(strip.text=element_text(size=14),axis.text.x = element_text(size=10,angle=45,hjust=1,vjust=1),axis.text.y = element_text(size=14),axis.title=element_text(size=14),legend.position=\"right\",legend.text=element_text(size=14))\n",
    "\n",
    "ggsave(pB,filename = paste0(PATH,'/results/recomb/bZi.svg'),dpi=600,width=10,height=7)\n",
    "ggsave(pB,filename = paste0(PATH,'/results/recomb/bZi.png'),dpi=600,width=10,height=7)\n",
    "\n",
    "pB"
   ]
  },
  {
   "cell_type": "markdown",
   "metadata": {
    "heading_collapsed": "true",
    "tags": []
   },
   "source": [
    "## AFR"
   ]
  },
  {
   "cell_type": "code",
   "execution_count": 72,
   "metadata": {},
   "outputs": [],
   "source": [
    "alphasAfrRecomb = alphas['afrRecomb.pkl']; binnedAfrRecomb = binned['afrRecomb.pkl']"
   ]
  },
  {
   "cell_type": "code",
   "execution_count": 73,
   "metadata": {},
   "outputs": [],
   "source": [
    "alphasAfrRecomb.bins = pd.Categorical(alphasAfrRecomb.bins,categories = alphasAfrRecomb.bins.unique())\n",
    "alphasAfrRecomb.test = pd.Categorical(alphasAfrRecomb.test,categories = alphasAfrRecomb.test.unique())"
   ]
  },
  {
   "cell_type": "code",
   "execution_count": 74,
   "metadata": {},
   "outputs": [],
   "source": [
    "alphasAfrRecomb = alphasAfrRecomb[(alphasAfrRecomb.test != 'emkt1') & (alphasAfrRecomb.test != 'fww1') & (alphasAfrRecomb.test != 'imp1') & (alphasAfrRecomb.test != 'asymp2')]"
   ]
  },
  {
   "cell_type": "code",
   "execution_count": 75,
   "metadata": {},
   "outputs": [],
   "source": [
    "alphasAfrRecomb.bins = alphasAfrRecomb.bins.apply(lambda r: float(r.split(',')[0].split('(')[1])).astype(float)"
   ]
  },
  {
   "cell_type": "code",
   "execution_count": 83,
   "metadata": {},
   "outputs": [
    {
     "name": "stdout",
     "output_type": "stream",
     "text": [
      " [1] -0.000761  0.027500  0.048700  0.073000  0.099100  0.130000  0.170000\n",
      " [8]  0.218000  0.275000  0.346000  0.429000  0.540000  0.675000  0.843000\n",
      "[15]  1.048000  1.314000  1.682000  2.209000  3.008000  4.676000\n"
     ]
    },
    {
     "data": {
      "image/png": "[encoded data removed]"
     },
     "metadata": {},
     "output_type": "display_data"
    }
   ],
   "source": [
    "%%R -i alphasAfrRecomb  -i PATH\n",
    "\n",
    "df = as.data.table(alphasAfrRecomb)\n",
    "\n",
    "df = df[test == 'imp2']\n",
    "print(df$bins %>% unique)\n",
    "p = ggplot(df, aes(x = as.factor(bins), y = value, fill =test)) + geom_boxplot( color = \"grey20\",alpha = 0.7) + theme_bw() + scale_x_discrete(name = \"Recombination rate categories\") +  scale_fill_manual(values=c(\"#30504f\",\"#e2bd9a\",\"#ab2710\",\"#53cf53\",\"#AEB782\",\"#5C8FCE\"),name=\"Method\", labels = c(\"std\" = \"MKT\", \"emkt2\" = \"eMKT 25%\", \"fww1\" = \"fwwMKT 25%\", \"fww2\" = \"fwwMKT  25%\", \"imp2\" = \"impMKT 25%\",\"asymp1\" = \"aMKT\",\"grapes\" = \"Grapes\")) + theme(strip.text=element_text(size=14),axis.text.x = element_text(size=10,angle=45,hjust=1,vjust=1),axis.text.y = element_text(size=14),axis.title=element_text(size=14),legend.position=\"right\",legend.text=element_text(size=14)) + ylab(expression(alpha))\n",
    "#ggsave(p,filename = paste0(PATH,'/results/recomb/afrRecomb.svg'),dpi=600,width=10,height=7)\n",
    "#ggsave(p,filename = paste0(PATH,'/results/recomb/afrRecomb.png'),dpi=600,width=10,height=7)\n",
    "\n",
    "p\n"
   ]
  },
  {
   "cell_type": "code",
   "execution_count": 26,
   "metadata": {},
   "outputs": [
    {
     "name": "stderr",
     "output_type": "stream",
     "text": [
      "100%|██████████| 15/15 [00:19<00:00,  1.33s/it]\n"
     ]
    }
   ],
   "source": [
    "df = humanDataset\n",
    "\n",
    "tmp = df[df['pop'] == 'AFR']\n",
    "b = []\n",
    "replicas = 100\n",
    "population = 'AFR'\n",
    "\n",
    "bins = np.arange(15)\n",
    "\n",
    "with warnings.catch_warnings():\n",
    "    warnings.simplefilter('ignore')\n",
    "    for i in tqdm(bins):\n",
    "\n",
    "        sampling, grp = binByRecombRate(tmp,replicas,i,bins.shape[0])\n",
    "\n",
    "        pool = Pool(processes = 7)\n",
    "        lSfs,lDiv,lM,genes = zip(*pool.starmap(parseBinnedSfs,zip([df]*replicas,[population]*replicas,sampling)))\n",
    "        pool.terminate()\n",
    "\n",
    "        pool = Pool(processes = 7)\n",
    "        tmpB = pool.starmap(bEstimates,zip(lSfs,lDiv,lM,genes,[population]*replicas,np.arange(1,replicas+1).tolist()))\n",
    "        pool.terminate()\n",
    "        tmpB = pd.concat(tmpB)\n",
    "        tmpB['bins'] = grp\n",
    "        b.append(tmpB)\n",
    "\n",
    "    b = pd.concat(b)"
   ]
  },
  {
   "cell_type": "code",
   "execution_count": 29,
   "metadata": {},
   "outputs": [],
   "source": [
    "b.alpha = b.alpha.astype(float)\n",
    "b.b     = b.b.astype(float)\n",
    "b.f     = b.f.astype(float)\n",
    "b.d     = b.d.astype(float)"
   ]
  },
  {
   "cell_type": "code",
   "execution_count": 30,
   "metadata": {},
   "outputs": [
    {
     "data": {
      "image/png": "[encoded data removed]"
     },
     "metadata": {},
     "output_type": "display_data"
    }
   ],
   "source": [
    "%%R -i b -i PATH\n",
    "\n",
    "b = as.data.table(b)\n",
    "b[['bins']] = as.factor(b[['bins']])\n",
    "\n",
    "pB = ggplot(b,aes(x=bins,y=b,fill=bins))+ geom_boxplot(show.legend=F) + scale_fill_viridis_d() + theme_bw() + theme(strip.text=element_text(size=14),axis.text.x = element_text(size=10,angle=45,hjust=1,vjust=1),axis.text.y = element_text(size=14),axis.title=element_text(size=14),legend.position=\"right\",legend.text=element_text(size=14))\n",
    "\n",
    "ggsave(pB,filename = paste0(PATH,'/results/recomb/bAfr.svg'),dpi=600,width=10,height=7)\n",
    "ggsave(pB,filename = paste0(PATH,'/results/recomb/bAfr.png'),dpi=600,width=10,height=7)\n",
    "\n",
    "pB"
   ]
  },
  {
   "cell_type": "markdown",
   "metadata": {
    "heading_collapsed": true
   },
   "source": [
    "# Tables"
   ]
  },
  {
   "cell_type": "code",
   "execution_count": 31,
   "metadata": {
    "hidden": true
   },
   "outputs": [],
   "source": [
    "dfRecomb = pd.concat([alphasZiRecomb,alphasAfrRecomb])"
   ]
  },
  {
   "cell_type": "code",
   "execution_count": 32,
   "metadata": {
    "hidden": true
   },
   "outputs": [],
   "source": [
    "tmpRecomb = dfRecomb.groupby(['test','pop','bins']).value.describe(percentiles=[0.05,0.5,0.95])[['mean','5%','95%']].reset_index()"
   ]
  },
  {
   "cell_type": "code",
   "execution_count": 33,
   "metadata": {
    "hidden": true
   },
   "outputs": [],
   "source": [
    "tmpRecomb[['ci']] = np.round(tmpRecomb[['mean']],3).astype(str).values + ' (' + np.round(tmpRecomb[['5%']],3).astype(str).values + '-' + np.round(tmpRecomb[['95%']],3).astype(str).values +')'"
   ]
  },
  {
   "cell_type": "code",
   "execution_count": 37,
   "metadata": {
    "hidden": true
   },
   "outputs": [
    {
     "data": {
      "text/html": [
       "<div>\n",
       "<style scoped>\n",
       "    .dataframe tbody tr th:only-of-type {\n",
       "        vertical-align: middle;\n",
       "    }\n",
       "\n",
       "    .dataframe tbody tr th {\n",
       "        vertical-align: top;\n",
       "    }\n",
       "\n",
       "    .dataframe thead tr th {\n",
       "        text-align: left;\n",
       "    }\n",
       "\n",
       "    .dataframe thead tr:last-of-type th {\n",
       "        text-align: right;\n",
       "    }\n",
       "</style>\n",
       "<table border=\"1\" class=\"dataframe\">\n",
       "  <thead>\n",
       "    <tr>\n",
       "      <th></th>\n",
       "      <th></th>\n",
       "      <th colspan=\"6\" halign=\"left\">ci</th>\n",
       "    </tr>\n",
       "    <tr>\n",
       "      <th></th>\n",
       "      <th>test</th>\n",
       "      <th>std</th>\n",
       "      <th>emkt2</th>\n",
       "      <th>fww2</th>\n",
       "      <th>imp2</th>\n",
       "      <th>asymp1</th>\n",
       "      <th>grapes</th>\n",
       "    </tr>\n",
       "    <tr>\n",
       "      <th>pop</th>\n",
       "      <th>bins</th>\n",
       "      <th></th>\n",
       "      <th></th>\n",
       "      <th></th>\n",
       "      <th></th>\n",
       "      <th></th>\n",
       "      <th></th>\n",
       "    </tr>\n",
       "  </thead>\n",
       "  <tbody>\n",
       "    <tr>\n",
       "      <th rowspan=\"15\" valign=\"top\">AFR</th>\n",
       "      <th>(-0.000761, 0.0349]</th>\n",
       "      <td>-0.501 (-0.591--0.433)</td>\n",
       "      <td>-0.459 (-0.552--0.39)</td>\n",
       "      <td>0.048 (-0.069-0.141)</td>\n",
       "      <td>0.048 (-0.069-0.141)</td>\n",
       "      <td>-0.097 (-0.597-0.122)</td>\n",
       "      <td>0.262 (0.191-0.318)</td>\n",
       "    </tr>\n",
       "    <tr>\n",
       "      <th>(0.0349, 0.0637]</th>\n",
       "      <td>-0.555 (-0.684--0.445)</td>\n",
       "      <td>-0.507 (-0.629--0.398)</td>\n",
       "      <td>0.091 (-0.022-0.211)</td>\n",
       "      <td>0.091 (-0.021-0.211)</td>\n",
       "      <td>0.089 (-0.033-0.209)</td>\n",
       "      <td>0.202 (0.12-0.28)</td>\n",
       "    </tr>\n",
       "    <tr>\n",
       "      <th>(0.0637, 0.0991]</th>\n",
       "      <td>-0.637 (-0.725--0.564)</td>\n",
       "      <td>-0.591 (-0.673--0.519)</td>\n",
       "      <td>-0.022 (-0.121-0.07)</td>\n",
       "      <td>-0.022 (-0.121-0.07)</td>\n",
       "      <td>0.032 (-0.106-0.199)</td>\n",
       "      <td>0.243 (0.169-0.311)</td>\n",
       "    </tr>\n",
       "    <tr>\n",
       "      <th>(0.0991, 0.141]</th>\n",
       "      <td>-0.53 (-0.638--0.432)</td>\n",
       "      <td>-0.472 (-0.576--0.378)</td>\n",
       "      <td>0.177 (0.087-0.264)</td>\n",
       "      <td>0.177 (0.087-0.264)</td>\n",
       "      <td>0.349 (0.203-0.497)</td>\n",
       "      <td>0.281 (0.213-0.347)</td>\n",
       "    </tr>\n",
       "    <tr>\n",
       "      <th>(0.141, 0.201]</th>\n",
       "      <td>-0.44 (-0.532--0.355)</td>\n",
       "      <td>-0.393 (-0.484--0.313)</td>\n",
       "      <td>0.202 (0.112-0.282)</td>\n",
       "      <td>0.202 (0.112-0.282)</td>\n",
       "      <td>0.242 (0.123-0.338)</td>\n",
       "      <td>0.295 (0.25-0.348)</td>\n",
       "    </tr>\n",
       "    <tr>\n",
       "      <th>(0.201, 0.275]</th>\n",
       "      <td>-0.593 (-0.69--0.502)</td>\n",
       "      <td>-0.552 (-0.649--0.469)</td>\n",
       "      <td>-0.074 (-0.196-0.054)</td>\n",
       "      <td>-0.074 (-0.196-0.054)</td>\n",
       "      <td>-0.004 (-0.139-0.181)</td>\n",
       "      <td>0.232 (0.161-0.297)</td>\n",
       "    </tr>\n",
       "    <tr>\n",
       "      <th>(0.275, 0.372]</th>\n",
       "      <td>-0.42 (-0.568--0.306)</td>\n",
       "      <td>-0.378 (-0.519--0.266)</td>\n",
       "      <td>0.099 (-0.006-0.19)</td>\n",
       "      <td>0.099 (-0.006-0.19)</td>\n",
       "      <td>0.108 (-0.002-0.216)</td>\n",
       "      <td>0.312 (0.248-0.374)</td>\n",
       "    </tr>\n",
       "    <tr>\n",
       "      <th>(0.372, 0.501]</th>\n",
       "      <td>-0.46 (-0.546--0.379)</td>\n",
       "      <td>-0.414 (-0.5--0.338)</td>\n",
       "      <td>0.082 (-0.005-0.18)</td>\n",
       "      <td>0.082 (-0.005-0.18)</td>\n",
       "      <td>0.079 (-0.037-0.205)</td>\n",
       "      <td>0.28 (0.226-0.327)</td>\n",
       "    </tr>\n",
       "    <tr>\n",
       "      <th>(0.501, 0.675]</th>\n",
       "      <td>-0.517 (-0.609--0.444)</td>\n",
       "      <td>-0.466 (-0.548--0.395)</td>\n",
       "      <td>0.069 (-0.024-0.141)</td>\n",
       "      <td>0.069 (-0.024-0.141)</td>\n",
       "      <td>0.115 (-0.003-0.262)</td>\n",
       "      <td>0.274 (0.224-0.324)</td>\n",
       "    </tr>\n",
       "    <tr>\n",
       "      <th>(0.675, 0.908]</th>\n",
       "      <td>-0.502 (-0.581--0.427)</td>\n",
       "      <td>-0.447 (-0.528--0.373)</td>\n",
       "      <td>0.12 (0.043-0.2)</td>\n",
       "      <td>0.12 (0.043-0.2)</td>\n",
       "      <td>0.127 (0.026-0.224)</td>\n",
       "      <td>0.252 (0.185-0.317)</td>\n",
       "    </tr>\n",
       "    <tr>\n",
       "      <th>(0.908, 1.205]</th>\n",
       "      <td>-0.525 (-0.615--0.428)</td>\n",
       "      <td>-0.471 (-0.555--0.372)</td>\n",
       "      <td>0.067 (-0.014-0.152)</td>\n",
       "      <td>0.067 (-0.014-0.152)</td>\n",
       "      <td>0.066 (-0.04-0.162)</td>\n",
       "      <td>0.267 (0.206-0.318)</td>\n",
       "    </tr>\n",
       "    <tr>\n",
       "      <th>(1.205, 1.682]</th>\n",
       "      <td>-0.484 (-0.543--0.429)</td>\n",
       "      <td>-0.435 (-0.499--0.377)</td>\n",
       "      <td>0.06 (-0.016-0.151)</td>\n",
       "      <td>0.06 (-0.016-0.151)</td>\n",
       "      <td>0.092 (0.008-0.188)</td>\n",
       "      <td>0.28 (0.219-0.348)</td>\n",
       "    </tr>\n",
       "    <tr>\n",
       "      <th>(1.682, 2.436]</th>\n",
       "      <td>-0.458 (-0.535--0.378)</td>\n",
       "      <td>-0.404 (-0.477--0.33)</td>\n",
       "      <td>0.144 (0.083-0.205)</td>\n",
       "      <td>0.144 (0.083-0.206)</td>\n",
       "      <td>0.153 (0.074-0.239)</td>\n",
       "      <td>0.348 (0.294-0.397)</td>\n",
       "    </tr>\n",
       "    <tr>\n",
       "      <th>(2.436, 3.938]</th>\n",
       "      <td>-0.385 (-0.528--0.27)</td>\n",
       "      <td>-0.34 (-0.475--0.233)</td>\n",
       "      <td>0.104 (-0.021-0.202)</td>\n",
       "      <td>0.104 (-0.021-0.202)</td>\n",
       "      <td>0.118 (0.004-0.207)</td>\n",
       "      <td>0.254 (0.185-0.311)</td>\n",
       "    </tr>\n",
       "    <tr>\n",
       "      <th>(3.938, 86.611]</th>\n",
       "      <td>-0.395 (-0.478--0.336)</td>\n",
       "      <td>-0.347 (-0.428--0.284)</td>\n",
       "      <td>0.104 (0.028-0.178)</td>\n",
       "      <td>0.104 (0.028-0.177)</td>\n",
       "      <td>0.127 (0.048-0.229)</td>\n",
       "      <td>0.252 (0.214-0.3)</td>\n",
       "    </tr>\n",
       "    <tr>\n",
       "      <th rowspan=\"15\" valign=\"top\">ZI</th>\n",
       "      <th>(-0.001, 0.0692]</th>\n",
       "      <td>-0.148 (-0.247--0.08)</td>\n",
       "      <td>-0.069 (-0.162--0.008)</td>\n",
       "      <td>0.413 (0.345-0.469)</td>\n",
       "      <td>0.413 (0.345-0.469)</td>\n",
       "      <td>0.372 (0.288-0.432)</td>\n",
       "      <td>0.42 (0.353-0.471)</td>\n",
       "    </tr>\n",
       "    <tr>\n",
       "      <th>(0.0692, 0.326]</th>\n",
       "      <td>-0.003 (-0.067-0.069)</td>\n",
       "      <td>0.085 (0.026-0.15)</td>\n",
       "      <td>0.481 (0.429-0.524)</td>\n",
       "      <td>0.481 (0.429-0.524)</td>\n",
       "      <td>0.479 (0.428-0.531)</td>\n",
       "      <td>0.567 (0.528-0.601)</td>\n",
       "    </tr>\n",
       "    <tr>\n",
       "      <th>(0.326, 0.653]</th>\n",
       "      <td>0.106 (0.029-0.173)</td>\n",
       "      <td>0.187 (0.116-0.247)</td>\n",
       "      <td>0.562 (0.517-0.604)</td>\n",
       "      <td>0.562 (0.517-0.603)</td>\n",
       "      <td>0.537 (0.482-0.586)</td>\n",
       "      <td>0.63 (0.58-0.67)</td>\n",
       "    </tr>\n",
       "    <tr>\n",
       "      <th>(0.653, 0.979]</th>\n",
       "      <td>0.288 (0.243-0.329)</td>\n",
       "      <td>0.355 (0.315-0.393)</td>\n",
       "      <td>0.643 (0.618-0.667)</td>\n",
       "      <td>0.643 (0.618-0.667)</td>\n",
       "      <td>0.633 (0.606-0.661)</td>\n",
       "      <td>0.692 (0.662-0.722)</td>\n",
       "    </tr>\n",
       "    <tr>\n",
       "      <th>(0.979, 1.306]</th>\n",
       "      <td>0.304 (0.263-0.347)</td>\n",
       "      <td>0.371 (0.332-0.41)</td>\n",
       "      <td>0.658 (0.632-0.681)</td>\n",
       "      <td>0.658 (0.632-0.681)</td>\n",
       "      <td>0.639 (0.612-0.663)</td>\n",
       "      <td>0.714 (0.691-0.737)</td>\n",
       "    </tr>\n",
       "    <tr>\n",
       "      <th>(1.306, 1.525]</th>\n",
       "      <td>0.26 (0.201-0.311)</td>\n",
       "      <td>0.332 (0.277-0.378)</td>\n",
       "      <td>0.62 (0.585-0.652)</td>\n",
       "      <td>0.62 (0.585-0.652)</td>\n",
       "      <td>0.611 (0.572-0.641)</td>\n",
       "      <td>0.711 (0.689-0.731)</td>\n",
       "    </tr>\n",
       "    <tr>\n",
       "      <th>(1.525, 1.844]</th>\n",
       "      <td>0.299 (0.267-0.33)</td>\n",
       "      <td>0.36 (0.329-0.39)</td>\n",
       "      <td>0.619 (0.593-0.638)</td>\n",
       "      <td>0.619 (0.593-0.638)</td>\n",
       "      <td>0.557 (0.511-0.605)</td>\n",
       "      <td>0.679 (0.65-0.709)</td>\n",
       "    </tr>\n",
       "    <tr>\n",
       "      <th>(1.844, 2.111]</th>\n",
       "      <td>0.45 (0.397-0.491)</td>\n",
       "      <td>0.506 (0.459-0.543)</td>\n",
       "      <td>0.731 (0.703-0.753)</td>\n",
       "      <td>0.73 (0.703-0.752)</td>\n",
       "      <td>0.709 (0.674-0.739)</td>\n",
       "      <td>0.762 (0.737-0.783)</td>\n",
       "    </tr>\n",
       "    <tr>\n",
       "      <th>(2.111, 2.386]</th>\n",
       "      <td>0.414 (0.373-0.453)</td>\n",
       "      <td>0.469 (0.43-0.506)</td>\n",
       "      <td>0.693 (0.667-0.714)</td>\n",
       "      <td>0.693 (0.667-0.714)</td>\n",
       "      <td>0.671 (0.634-0.698)</td>\n",
       "      <td>0.75 (0.727-0.773)</td>\n",
       "    </tr>\n",
       "    <tr>\n",
       "      <th>(2.386, 2.72]</th>\n",
       "      <td>0.416 (0.375-0.448)</td>\n",
       "      <td>0.47 (0.434-0.498)</td>\n",
       "      <td>0.698 (0.677-0.714)</td>\n",
       "      <td>0.698 (0.677-0.714)</td>\n",
       "      <td>0.66 (0.62-0.691)</td>\n",
       "      <td>0.733 (0.714-0.754)</td>\n",
       "    </tr>\n",
       "    <tr>\n",
       "      <th>(2.72, 3.145]</th>\n",
       "      <td>0.435 (0.386-0.474)</td>\n",
       "      <td>0.487 (0.441-0.524)</td>\n",
       "      <td>0.698 (0.673-0.719)</td>\n",
       "      <td>0.698 (0.673-0.718)</td>\n",
       "      <td>0.681 (0.649-0.703)</td>\n",
       "      <td>0.726 (0.706-0.744)</td>\n",
       "    </tr>\n",
       "    <tr>\n",
       "      <th>(3.145, 3.579]</th>\n",
       "      <td>0.398 (0.357-0.438)</td>\n",
       "      <td>0.461 (0.425-0.497)</td>\n",
       "      <td>0.699 (0.67-0.727)</td>\n",
       "      <td>0.699 (0.67-0.727)</td>\n",
       "      <td>0.691 (0.66-0.72)</td>\n",
       "      <td>0.731 (0.713-0.75)</td>\n",
       "    </tr>\n",
       "    <tr>\n",
       "      <th>(3.579, 4.222]</th>\n",
       "      <td>0.427 (0.369-0.478)</td>\n",
       "      <td>0.483 (0.429-0.528)</td>\n",
       "      <td>0.701 (0.663-0.727)</td>\n",
       "      <td>0.701 (0.663-0.727)</td>\n",
       "      <td>0.67 (0.596-0.706)</td>\n",
       "      <td>0.741 (0.7-0.77)</td>\n",
       "    </tr>\n",
       "    <tr>\n",
       "      <th>(4.222, 5.629]</th>\n",
       "      <td>0.474 (0.435-0.499)</td>\n",
       "      <td>0.522 (0.486-0.544)</td>\n",
       "      <td>0.716 (0.693-0.733)</td>\n",
       "      <td>0.716 (0.693-0.733)</td>\n",
       "      <td>0.685 (0.643-0.713)</td>\n",
       "      <td>0.753 (0.734-0.767)</td>\n",
       "    </tr>\n",
       "    <tr>\n",
       "      <th>(5.629, 14.799]</th>\n",
       "      <td>0.501 (0.477-0.526)</td>\n",
       "      <td>0.552 (0.531-0.575)</td>\n",
       "      <td>0.745 (0.729-0.761)</td>\n",
       "      <td>0.745 (0.729-0.761)</td>\n",
       "      <td>0.724 (0.703-0.74)</td>\n",
       "      <td>0.775 (0.751-0.794)</td>\n",
       "    </tr>\n",
       "  </tbody>\n",
       "</table>\n",
       "</div>"
      ],
      "text/plain": [
       "                                             ci                          \\\n",
       "test                                        std                   emkt2   \n",
       "pop bins                                                                  \n",
       "AFR (-0.000761, 0.0349]  -0.501 (-0.591--0.433)   -0.459 (-0.552--0.39)   \n",
       "    (0.0349, 0.0637]     -0.555 (-0.684--0.445)  -0.507 (-0.629--0.398)   \n",
       "    (0.0637, 0.0991]     -0.637 (-0.725--0.564)  -0.591 (-0.673--0.519)   \n",
       "    (0.0991, 0.141]       -0.53 (-0.638--0.432)  -0.472 (-0.576--0.378)   \n",
       "    (0.141, 0.201]        -0.44 (-0.532--0.355)  -0.393 (-0.484--0.313)   \n",
       "    (0.201, 0.275]        -0.593 (-0.69--0.502)  -0.552 (-0.649--0.469)   \n",
       "    (0.275, 0.372]        -0.42 (-0.568--0.306)  -0.378 (-0.519--0.266)   \n",
       "    (0.372, 0.501]        -0.46 (-0.546--0.379)    -0.414 (-0.5--0.338)   \n",
       "    (0.501, 0.675]       -0.517 (-0.609--0.444)  -0.466 (-0.548--0.395)   \n",
       "    (0.675, 0.908]       -0.502 (-0.581--0.427)  -0.447 (-0.528--0.373)   \n",
       "    (0.908, 1.205]       -0.525 (-0.615--0.428)  -0.471 (-0.555--0.372)   \n",
       "    (1.205, 1.682]       -0.484 (-0.543--0.429)  -0.435 (-0.499--0.377)   \n",
       "    (1.682, 2.436]       -0.458 (-0.535--0.378)   -0.404 (-0.477--0.33)   \n",
       "    (2.436, 3.938]        -0.385 (-0.528--0.27)   -0.34 (-0.475--0.233)   \n",
       "    (3.938, 86.611]      -0.395 (-0.478--0.336)  -0.347 (-0.428--0.284)   \n",
       "ZI  (-0.001, 0.0692]      -0.148 (-0.247--0.08)  -0.069 (-0.162--0.008)   \n",
       "    (0.0692, 0.326]       -0.003 (-0.067-0.069)      0.085 (0.026-0.15)   \n",
       "    (0.326, 0.653]          0.106 (0.029-0.173)     0.187 (0.116-0.247)   \n",
       "    (0.653, 0.979]          0.288 (0.243-0.329)     0.355 (0.315-0.393)   \n",
       "    (0.979, 1.306]          0.304 (0.263-0.347)      0.371 (0.332-0.41)   \n",
       "    (1.306, 1.525]           0.26 (0.201-0.311)     0.332 (0.277-0.378)   \n",
       "    (1.525, 1.844]           0.299 (0.267-0.33)       0.36 (0.329-0.39)   \n",
       "    (1.844, 2.111]           0.45 (0.397-0.491)     0.506 (0.459-0.543)   \n",
       "    (2.111, 2.386]          0.414 (0.373-0.453)      0.469 (0.43-0.506)   \n",
       "    (2.386, 2.72]           0.416 (0.375-0.448)      0.47 (0.434-0.498)   \n",
       "    (2.72, 3.145]           0.435 (0.386-0.474)     0.487 (0.441-0.524)   \n",
       "    (3.145, 3.579]          0.398 (0.357-0.438)     0.461 (0.425-0.497)   \n",
       "    (3.579, 4.222]          0.427 (0.369-0.478)     0.483 (0.429-0.528)   \n",
       "    (4.222, 5.629]          0.474 (0.435-0.499)     0.522 (0.486-0.544)   \n",
       "    (5.629, 14.799]         0.501 (0.477-0.526)     0.552 (0.531-0.575)   \n",
       "\n",
       "                                                                       \\\n",
       "test                                      fww2                   imp2   \n",
       "pop bins                                                                \n",
       "AFR (-0.000761, 0.0349]   0.048 (-0.069-0.141)   0.048 (-0.069-0.141)   \n",
       "    (0.0349, 0.0637]      0.091 (-0.022-0.211)   0.091 (-0.021-0.211)   \n",
       "    (0.0637, 0.0991]      -0.022 (-0.121-0.07)   -0.022 (-0.121-0.07)   \n",
       "    (0.0991, 0.141]        0.177 (0.087-0.264)    0.177 (0.087-0.264)   \n",
       "    (0.141, 0.201]         0.202 (0.112-0.282)    0.202 (0.112-0.282)   \n",
       "    (0.201, 0.275]       -0.074 (-0.196-0.054)  -0.074 (-0.196-0.054)   \n",
       "    (0.275, 0.372]         0.099 (-0.006-0.19)    0.099 (-0.006-0.19)   \n",
       "    (0.372, 0.501]         0.082 (-0.005-0.18)    0.082 (-0.005-0.18)   \n",
       "    (0.501, 0.675]        0.069 (-0.024-0.141)   0.069 (-0.024-0.141)   \n",
       "    (0.675, 0.908]            0.12 (0.043-0.2)       0.12 (0.043-0.2)   \n",
       "    (0.908, 1.205]        0.067 (-0.014-0.152)   0.067 (-0.014-0.152)   \n",
       "    (1.205, 1.682]         0.06 (-0.016-0.151)    0.06 (-0.016-0.151)   \n",
       "    (1.682, 2.436]         0.144 (0.083-0.205)    0.144 (0.083-0.206)   \n",
       "    (2.436, 3.938]        0.104 (-0.021-0.202)   0.104 (-0.021-0.202)   \n",
       "    (3.938, 86.611]        0.104 (0.028-0.178)    0.104 (0.028-0.177)   \n",
       "ZI  (-0.001, 0.0692]       0.413 (0.345-0.469)    0.413 (0.345-0.469)   \n",
       "    (0.0692, 0.326]        0.481 (0.429-0.524)    0.481 (0.429-0.524)   \n",
       "    (0.326, 0.653]         0.562 (0.517-0.604)    0.562 (0.517-0.603)   \n",
       "    (0.653, 0.979]         0.643 (0.618-0.667)    0.643 (0.618-0.667)   \n",
       "    (0.979, 1.306]         0.658 (0.632-0.681)    0.658 (0.632-0.681)   \n",
       "    (1.306, 1.525]          0.62 (0.585-0.652)     0.62 (0.585-0.652)   \n",
       "    (1.525, 1.844]         0.619 (0.593-0.638)    0.619 (0.593-0.638)   \n",
       "    (1.844, 2.111]         0.731 (0.703-0.753)     0.73 (0.703-0.752)   \n",
       "    (2.111, 2.386]         0.693 (0.667-0.714)    0.693 (0.667-0.714)   \n",
       "    (2.386, 2.72]          0.698 (0.677-0.714)    0.698 (0.677-0.714)   \n",
       "    (2.72, 3.145]          0.698 (0.673-0.719)    0.698 (0.673-0.718)   \n",
       "    (3.145, 3.579]          0.699 (0.67-0.727)     0.699 (0.67-0.727)   \n",
       "    (3.579, 4.222]         0.701 (0.663-0.727)    0.701 (0.663-0.727)   \n",
       "    (4.222, 5.629]         0.716 (0.693-0.733)    0.716 (0.693-0.733)   \n",
       "    (5.629, 14.799]        0.745 (0.729-0.761)    0.745 (0.729-0.761)   \n",
       "\n",
       "                                                                     \n",
       "test                                    asymp1               grapes  \n",
       "pop bins                                                             \n",
       "AFR (-0.000761, 0.0349]  -0.097 (-0.597-0.122)  0.262 (0.191-0.318)  \n",
       "    (0.0349, 0.0637]      0.089 (-0.033-0.209)    0.202 (0.12-0.28)  \n",
       "    (0.0637, 0.0991]      0.032 (-0.106-0.199)  0.243 (0.169-0.311)  \n",
       "    (0.0991, 0.141]        0.349 (0.203-0.497)  0.281 (0.213-0.347)  \n",
       "    (0.141, 0.201]         0.242 (0.123-0.338)   0.295 (0.25-0.348)  \n",
       "    (0.201, 0.275]       -0.004 (-0.139-0.181)  0.232 (0.161-0.297)  \n",
       "    (0.275, 0.372]        0.108 (-0.002-0.216)  0.312 (0.248-0.374)  \n",
       "    (0.372, 0.501]        0.079 (-0.037-0.205)   0.28 (0.226-0.327)  \n",
       "    (0.501, 0.675]        0.115 (-0.003-0.262)  0.274 (0.224-0.324)  \n",
       "    (0.675, 0.908]         0.127 (0.026-0.224)  0.252 (0.185-0.317)  \n",
       "    (0.908, 1.205]         0.066 (-0.04-0.162)  0.267 (0.206-0.318)  \n",
       "    (1.205, 1.682]         0.092 (0.008-0.188)   0.28 (0.219-0.348)  \n",
       "    (1.682, 2.436]         0.153 (0.074-0.239)  0.348 (0.294-0.397)  \n",
       "    (2.436, 3.938]         0.118 (0.004-0.207)  0.254 (0.185-0.311)  \n",
       "    (3.938, 86.611]        0.127 (0.048-0.229)    0.252 (0.214-0.3)  \n",
       "ZI  (-0.001, 0.0692]       0.372 (0.288-0.432)   0.42 (0.353-0.471)  \n",
       "    (0.0692, 0.326]        0.479 (0.428-0.531)  0.567 (0.528-0.601)  \n",
       "    (0.326, 0.653]         0.537 (0.482-0.586)     0.63 (0.58-0.67)  \n",
       "    (0.653, 0.979]         0.633 (0.606-0.661)  0.692 (0.662-0.722)  \n",
       "    (0.979, 1.306]         0.639 (0.612-0.663)  0.714 (0.691-0.737)  \n",
       "    (1.306, 1.525]         0.611 (0.572-0.641)  0.711 (0.689-0.731)  \n",
       "    (1.525, 1.844]         0.557 (0.511-0.605)   0.679 (0.65-0.709)  \n",
       "    (1.844, 2.111]         0.709 (0.674-0.739)  0.762 (0.737-0.783)  \n",
       "    (2.111, 2.386]         0.671 (0.634-0.698)   0.75 (0.727-0.773)  \n",
       "    (2.386, 2.72]            0.66 (0.62-0.691)  0.733 (0.714-0.754)  \n",
       "    (2.72, 3.145]          0.681 (0.649-0.703)  0.726 (0.706-0.744)  \n",
       "    (3.145, 3.579]           0.691 (0.66-0.72)   0.731 (0.713-0.75)  \n",
       "    (3.579, 4.222]          0.67 (0.596-0.706)     0.741 (0.7-0.77)  \n",
       "    (4.222, 5.629]         0.685 (0.643-0.713)  0.753 (0.734-0.767)  \n",
       "    (5.629, 14.799]         0.724 (0.703-0.74)  0.775 (0.751-0.794)  "
      ]
     },
     "execution_count": 37,
     "metadata": {},
     "output_type": "execute_result"
    }
   ],
   "source": [
    "recombPaper = pd.pivot_table(tmpRecomb[['test','pop','bins','ci']], values=['ci'], index=['pop','bins'],columns = 'test',aggfunc=lambda x: ' '.join(x));recombPaper"
   ]
  },
  {
   "cell_type": "code",
   "execution_count": 38,
   "metadata": {
    "hidden": true
   },
   "outputs": [],
   "source": [
    "recombPaper.to_csv(PATH + '/results/recomb/recomb.tsv',sep='\\t')"
   ]
  }
 ],
 "metadata": {
  "kernelspec": {
   "display_name": "Python 3",
   "language": "python",
   "name": "python3"
  },
  "language_info": {
   "codemirror_mode": {
    "name": "ipython",
    "version": 3
   },
   "file_extension": ".py",
   "mimetype": "text/x-python",
   "name": "python",
   "nbconvert_exporter": "python",
   "pygments_lexer": "ipython3",
   "version": "3.8.5"
  },
  "toc": {
   "base_numbering": 1,
   "nav_menu": {},
   "number_sections": true,
   "sideBar": true,
   "skip_h1_title": false,
   "title_cell": "Table of Contents",
   "title_sidebar": "Contents",
   "toc_cell": false,
   "toc_position": {},
   "toc_section_display": true,
   "toc_window_display": false
  }
 },
 "nbformat": 4,
 "nbformat_minor": 4
}
