{
 "cells": [
  {
   "cell_type": "code",
   "execution_count": null,
   "metadata": {},
   "outputs": [],
   "source": [
    "library(biomaRt)\n",
    "library(regioneR)\n",
    "gene.symbols <- c(\"ENSG00000066735.14_3\",\"ENSG00000074370.17_3\",\"ENSG00000099866.14_3\",\"ENSG00000109501.13_4\",\"ENSG00000110427.14_3\",\"ENSG00000137411.16_3\",\"ENSG00000153531.13_3\",\"ENSG00000161847.13_3\",\"ENSG00000171105.13_3\",\"ENSG00000188112.8_3\")\n",
    "\n",
    "ensembl <- useEnsembl(biomart=\"ensembl\", dataset=\"hsapiens_gene_ensembl\")\n",
    "genes <- toGRanges(getBM(attributes=c('chromosome_name', 'start_position', 'end_position', 'hgnc_symbol'),\n",
    "               filters = 'hgnc_symbol', values =gene.symbols, mart = ensembl))\n",
    "seqlevelsStyle(genes) <- \"UCSC\"\n",
    "genes\n"
   ]
  },
  {
   "cell_type": "code",
   "execution_count": null,
   "metadata": {},
   "outputs": [],
   "source": [
    "\n",
    "library(karyoploteR) \n",
    "kp <- plotKaryotype(genome=\"hg19\")\n",
    "kpPlotMarkers(kp, data=genes, labels=genes$hgnc_symbol)\n",
    "\n",
    "kp <- plotKaryotype(genome=\"hg38\")\n",
    "kpPlotMarkers(kp, data=genes, labels=genes$hgnc_symbol, text.orientation = \"horizontal\",\n",
    "              r1=0.5, cex=0.8, adjust.label.position = FALSE)"
   ]
  }
 ],
 "metadata": {
  "kernelspec": {
   "display_name": "R",
   "language": "R",
   "name": "ir"
  },
  "language_info": {
   "codemirror_mode": "r",
   "file_extension": ".r",
   "mimetype": "text/x-r-source",
   "name": "R",
   "pygments_lexer": "r",
   "version": "3.3.3"
  }
 },
 "nbformat": 4,
 "nbformat_minor": 2
}
