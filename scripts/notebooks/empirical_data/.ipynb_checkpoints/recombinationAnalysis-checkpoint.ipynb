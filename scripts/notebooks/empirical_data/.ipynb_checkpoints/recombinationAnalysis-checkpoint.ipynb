{
 "cells": [
  {
   "cell_type": "markdown",
   "metadata": {},
   "source": [
    "Load libraries"
   ]
  },
  {
   "cell_type": "code",
   "execution_count": 184,
   "metadata": {},
   "outputs": [],
   "source": [
    "import numpy as np\n",
    "import pandas as pd\n",
    "import pickle as pkl\n",
    "import warnings\n",
    "from tqdm import tqdm\n",
    "\n",
    "PATH =  \"/home/jmurga/mkt/201902\"\n",
    "import sys\n",
    "sys.path.insert(0, PATH + '/scripts/src/')\n",
    "from mktAnalysis import *"
   ]
  },
  {
   "cell_type": "markdown",
   "metadata": {},
   "source": [
    "Load main data"
   ]
  },
  {
   "cell_type": "code",
   "execution_count": 2,
   "metadata": {},
   "outputs": [],
   "source": [
    "dmelDataset  = pd.read_csv(PATH + \"/results/dsimDmelSitesBinned.tsv\",sep='\\t')\n",
    "humanDataset = pd.read_csv(PATH + \"/results/afrEur.tsv\",sep='\\t')"
   ]
  },
  {
   "cell_type": "code",
   "execution_count": 3,
   "metadata": {},
   "outputs": [],
   "source": [
    "%load_ext rpy2.ipython"
   ]
  },
  {
   "cell_type": "code",
   "execution_count": 185,
   "metadata": {},
   "outputs": [],
   "source": [
    "def bEstimates(sfs,d,m,geneId,population,replica):\n",
    "\n",
    "\t# Execute each mkt test through Analytical.jl\n",
    "\t## StandardMKT\n",
    "\tdataset =  str(replica) + '_concat'\n",
    "\n",
    "\tcheckDaf = sfs[sfs[:,0] > 0.15,:]\n",
    "\tif((np.sum(checkDaf[:,1]) == 0) | (np.sum(checkDaf[:,2]) == 0)):\n",
    "\t\timp2 = {\"alpha\":np.nan,\"pvalue\":np.nan}\n",
    "\telse:\n",
    "\t\timp2 = impMK(sfs=sfs,divergence=d,m=m,l=0.25);\n",
    "\n",
    "\n",
    "\ttmp = pd.DataFrame([dataset,population,imp2['alpha'],imp2['b'],imp2['f'],imp2['d']]).T\n",
    "\ttmp.columns= [\"id\",\"pop\",\"alpha\",\"b\",\"f\",\"d\"]\n",
    "\n",
    "\treturn(tmp)\n",
    "\n"
   ]
  },
  {
   "cell_type": "markdown",
   "metadata": {
    "heading_collapsed": "true",
    "tags": []
   },
   "source": [
    "# Recombination analysis"
   ]
  },
  {
   "cell_type": "code",
   "execution_count": 4,
   "metadata": {},
   "outputs": [],
   "source": [
    "bins = np.arange(0,5)"
   ]
  },
  {
   "cell_type": "markdown",
   "metadata": {
    "heading_collapsed": "true",
    "tags": []
   },
   "source": [
    "## Zi"
   ]
  },
  {
   "cell_type": "code",
   "execution_count": 5,
   "metadata": {},
   "outputs": [
    {
     "name": "stderr",
     "output_type": "stream",
     "text": [
      "100%|██████████| 5/5 [01:07<00:00, 13.47s/it]\n"
     ]
    }
   ],
   "source": [
    "alphasZiRecomb = []\n",
    "binnedZiRecomb = []\n",
    "with warnings.catch_warnings():\n",
    "    warnings.simplefilter('ignore')\n",
    "    for i in tqdm(bins):\n",
    "        a, b = sampleAnalysis(df = dmelDataset,population=\"ZI\",sample=None,replicas=100,dofe=PATH + \"/rawData/dofe/recomb\",nthreads=7,recombBin=i,bins=bins.shape[0])\n",
    "        alphasZiRecomb.append(a)\n",
    "        binnedZiRecomb.append(b)\n",
    "alphasZiRecomb = pd.concat(alphasZiRecomb)\n",
    "binnedZiRecomb = pd.concat(binnedZiRecomb)"
   ]
  },
  {
   "cell_type": "code",
   "execution_count": 7,
   "metadata": {},
   "outputs": [],
   "source": [
    "df = list()\n",
    "for i in bins:\n",
    "    tmp,tmp2,tmp3 = grapesOutput(PATH + \"/rawData/dofe/recomb/zi/\"+str(i)+\"/\",\"GammaZero\",\"ZI\",7)\n",
    "    tmp['pop']  = 'ZI'\n",
    "    tmp['bins'] = alphasZiRecomb.bins.unique()[i]\n",
    "    tmp['pvalue'] = np.nan\n",
    "    tmp = tmp.loc[:,['dataset','pop','alpha','pvalue','test','bins']]\n",
    "    tmp.columns = ['id','pop','alpha','pvalue','test','bins']\n",
    "    df.append(tmp)\n",
    "grapesRecombZi = pd.concat(df)"
   ]
  },
  {
   "cell_type": "code",
   "execution_count": 8,
   "metadata": {},
   "outputs": [
    {
     "data": {
      "text/html": [
       "<div>\n",
       "<style scoped>\n",
       "    .dataframe tbody tr th:only-of-type {\n",
       "        vertical-align: middle;\n",
       "    }\n",
       "\n",
       "    .dataframe tbody tr th {\n",
       "        vertical-align: top;\n",
       "    }\n",
       "\n",
       "    .dataframe thead th {\n",
       "        text-align: right;\n",
       "    }\n",
       "</style>\n",
       "<table border=\"1\" class=\"dataframe\">\n",
       "  <thead>\n",
       "    <tr style=\"text-align: right;\">\n",
       "      <th></th>\n",
       "      <th>id</th>\n",
       "      <th>pop</th>\n",
       "      <th>alpha</th>\n",
       "      <th>pvalue</th>\n",
       "      <th>test</th>\n",
       "      <th>bins</th>\n",
       "    </tr>\n",
       "  </thead>\n",
       "  <tbody>\n",
       "    <tr>\n",
       "      <th>0</th>\n",
       "      <td>1_concat</td>\n",
       "      <td>ZI</td>\n",
       "      <td>0.020000</td>\n",
       "      <td>0.087304</td>\n",
       "      <td>std</td>\n",
       "      <td>(-0.001, 0.653]</td>\n",
       "    </tr>\n",
       "    <tr>\n",
       "      <th>1</th>\n",
       "      <td>1_concat</td>\n",
       "      <td>ZI</td>\n",
       "      <td>0.128624</td>\n",
       "      <td>0.000039</td>\n",
       "      <td>emkt1</td>\n",
       "      <td>(-0.001, 0.653]</td>\n",
       "    </tr>\n",
       "    <tr>\n",
       "      <th>2</th>\n",
       "      <td>1_concat</td>\n",
       "      <td>ZI</td>\n",
       "      <td>0.104784</td>\n",
       "      <td>0.000039</td>\n",
       "      <td>emkt2</td>\n",
       "      <td>(-0.001, 0.653]</td>\n",
       "    </tr>\n",
       "    <tr>\n",
       "      <th>3</th>\n",
       "      <td>1_concat</td>\n",
       "      <td>ZI</td>\n",
       "      <td>0.478236</td>\n",
       "      <td>0.000020</td>\n",
       "      <td>fww1</td>\n",
       "      <td>(-0.001, 0.653]</td>\n",
       "    </tr>\n",
       "    <tr>\n",
       "      <th>4</th>\n",
       "      <td>1_concat</td>\n",
       "      <td>ZI</td>\n",
       "      <td>0.507199</td>\n",
       "      <td>0.000016</td>\n",
       "      <td>fww2</td>\n",
       "      <td>(-0.001, 0.653]</td>\n",
       "    </tr>\n",
       "    <tr>\n",
       "      <th>...</th>\n",
       "      <td>...</td>\n",
       "      <td>...</td>\n",
       "      <td>...</td>\n",
       "      <td>...</td>\n",
       "      <td>...</td>\n",
       "      <td>...</td>\n",
       "    </tr>\n",
       "    <tr>\n",
       "      <th>1</th>\n",
       "      <td>89_concat</td>\n",
       "      <td>ZI</td>\n",
       "      <td>0.798200</td>\n",
       "      <td>NaN</td>\n",
       "      <td>grapes</td>\n",
       "      <td>(3.579, 14.799]</td>\n",
       "    </tr>\n",
       "    <tr>\n",
       "      <th>1</th>\n",
       "      <td>15_concat</td>\n",
       "      <td>ZI</td>\n",
       "      <td>0.805700</td>\n",
       "      <td>NaN</td>\n",
       "      <td>grapes</td>\n",
       "      <td>(3.579, 14.799]</td>\n",
       "    </tr>\n",
       "    <tr>\n",
       "      <th>1</th>\n",
       "      <td>70_concat</td>\n",
       "      <td>ZI</td>\n",
       "      <td>0.808200</td>\n",
       "      <td>NaN</td>\n",
       "      <td>grapes</td>\n",
       "      <td>(3.579, 14.799]</td>\n",
       "    </tr>\n",
       "    <tr>\n",
       "      <th>1</th>\n",
       "      <td>2_concat</td>\n",
       "      <td>ZI</td>\n",
       "      <td>0.792900</td>\n",
       "      <td>NaN</td>\n",
       "      <td>grapes</td>\n",
       "      <td>(3.579, 14.799]</td>\n",
       "    </tr>\n",
       "    <tr>\n",
       "      <th>1</th>\n",
       "      <td>17_concat</td>\n",
       "      <td>ZI</td>\n",
       "      <td>0.802500</td>\n",
       "      <td>NaN</td>\n",
       "      <td>grapes</td>\n",
       "      <td>(3.579, 14.799]</td>\n",
       "    </tr>\n",
       "  </tbody>\n",
       "</table>\n",
       "<p>5000 rows × 6 columns</p>\n",
       "</div>"
      ],
      "text/plain": [
       "           id pop     alpha    pvalue    test             bins\n",
       "0    1_concat  ZI  0.020000  0.087304     std  (-0.001, 0.653]\n",
       "1    1_concat  ZI  0.128624  0.000039   emkt1  (-0.001, 0.653]\n",
       "2    1_concat  ZI  0.104784  0.000039   emkt2  (-0.001, 0.653]\n",
       "3    1_concat  ZI  0.478236  0.000020    fww1  (-0.001, 0.653]\n",
       "4    1_concat  ZI  0.507199  0.000016    fww2  (-0.001, 0.653]\n",
       "..        ...  ..       ...       ...     ...              ...\n",
       "1   89_concat  ZI  0.798200       NaN  grapes  (3.579, 14.799]\n",
       "1   15_concat  ZI  0.805700       NaN  grapes  (3.579, 14.799]\n",
       "1   70_concat  ZI  0.808200       NaN  grapes  (3.579, 14.799]\n",
       "1    2_concat  ZI  0.792900       NaN  grapes  (3.579, 14.799]\n",
       "1   17_concat  ZI  0.802500       NaN  grapes  (3.579, 14.799]\n",
       "\n",
       "[5000 rows x 6 columns]"
      ]
     },
     "execution_count": 8,
     "metadata": {},
     "output_type": "execute_result"
    }
   ],
   "source": [
    "df = pd.concat([alphasZiRecomb,grapesRecombZi])\n",
    "df.bins = pd.Categorical(df.bins,categories = df.bins.unique())\n",
    "df.test = pd.Categorical(df.test,categories = df.test.unique());\n",
    "df"
   ]
  },
  {
   "cell_type": "code",
   "execution_count": 10,
   "metadata": {},
   "outputs": [],
   "source": [
    "pkl.dump([df,binnedZiRecomb], open(PATH + \"/results/recomb/ziRecomb.pkl\", \"wb\" ))"
   ]
  },
  {
   "cell_type": "markdown",
   "metadata": {
    "heading_collapsed": "true",
    "tags": []
   },
   "source": [
    "## AFR"
   ]
  },
  {
   "cell_type": "code",
   "execution_count": 11,
   "metadata": {},
   "outputs": [
    {
     "name": "stderr",
     "output_type": "stream",
     "text": [
      "100%|██████████| 5/5 [00:56<00:00, 11.26s/it]\n"
     ]
    }
   ],
   "source": [
    "alphasAfrRecomb = []\n",
    "binnedAfrRecomb = []\n",
    "with warnings.catch_warnings():\n",
    "    warnings.simplefilter('ignore')\n",
    "    for i in tqdm(bins):\n",
    "        a, b = sampleAnalysis(df = humanDataset,population=\"AFR\",sample=None,replicas=100,dofe=PATH + \"/rawData/dofe/recomb\",nthreads=7,recombBin=i,bins=bins.shape[0])\n",
    "        alphasAfrRecomb.append(a)\n",
    "        binnedAfrRecomb.append(b)\n",
    "alphasAfrRecomb = pd.concat(alphasAfrRecomb)\n",
    "binnedAfrRecomb = pd.concat(binnedAfrRecomb)"
   ]
  },
  {
   "cell_type": "code",
   "execution_count": 12,
   "metadata": {},
   "outputs": [],
   "source": [
    "df = list()\n",
    "for i in bins:\n",
    "    tmp,tmp2,tmp3 = grapesOutput(PATH + \"/rawData/dofe/recomb/afr/\"+str(i)+\"/\",\"GammaZero\",\"AFR\",7)\n",
    "    tmp['pop']  = 'AFR'\n",
    "    tmp['bins'] = alphasAfrRecomb.bins.unique()[i]\n",
    "    tmp['pvalue'] = np.nan\n",
    "    tmp = tmp.loc[:,['dataset','pop','alpha','pvalue','test','bins']]\n",
    "    tmp.columns = ['id','pop','alpha','pvalue','test','bins']\n",
    "    df.append(tmp)\n",
    "grapesRecombAfr = pd.concat(df)"
   ]
  },
  {
   "cell_type": "code",
   "execution_count": 13,
   "metadata": {},
   "outputs": [],
   "source": [
    "df = pd.concat([alphasAfrRecomb,grapesRecombAfr])\n",
    "df.bins = pd.Categorical(df.bins,categories = df.bins.unique())\n",
    "df.test = pd.Categorical(df.test,categories = df.test.unique())"
   ]
  },
  {
   "cell_type": "code",
   "execution_count": 14,
   "metadata": {},
   "outputs": [],
   "source": [
    "pkl.dump([df,binnedAfrRecomb], open(PATH + \"/results/recomb/afrRecomb.pkl\", \"wb\" ))"
   ]
  },
  {
   "cell_type": "markdown",
   "metadata": {
    "heading_collapsed": "true",
    "hidden": true,
    "tags": []
   },
   "source": [
    "# Plots"
   ]
  },
  {
   "cell_type": "markdown",
   "metadata": {},
   "source": [
    "Loading data from pickle and formating to plot in R"
   ]
  },
  {
   "cell_type": "code",
   "execution_count": 19,
   "metadata": {},
   "outputs": [],
   "source": [
    "alphas, binned = loadPickleAlphas(PATH + \"/results/recomb/*Recomb.pkl\")"
   ]
  },
  {
   "cell_type": "markdown",
   "metadata": {
    "heading_collapsed": "true",
    "tags": []
   },
   "source": [
    "## ZI"
   ]
  },
  {
   "cell_type": "code",
   "execution_count": 21,
   "metadata": {},
   "outputs": [],
   "source": [
    "alphasZiRecomb = alphas['ziRecomb.pkl']; binnedZiRecomb = binned['ziRecomb.pkl']"
   ]
  },
  {
   "cell_type": "code",
   "execution_count": 26,
   "metadata": {},
   "outputs": [],
   "source": [
    "alphasZiRecomb.bins = pd.Categorical(alphasZiRecomb.bins,categories = alphasZiRecomb.bins.unique())\n",
    "alphasZiRecomb.test = pd.Categorical(alphasZiRecomb.test,categories = alphasZiRecomb.test.unique())"
   ]
  },
  {
   "cell_type": "code",
   "execution_count": 32,
   "metadata": {},
   "outputs": [],
   "source": [
    "alphasZiRecomb = alphasZiRecomb[(alphasZiRecomb.test != 'emkt1') & (alphasZiRecomb.test != 'fww1') & (alphasZiRecomb.test != 'imp1') & (alphasZiRecomb.test != 'asymp2')]"
   ]
  },
  {
   "cell_type": "code",
   "execution_count": 200,
   "metadata": {},
   "outputs": [
    {
     "data": {
      "image/png": "[encoded data removed]"
     },
     "metadata": {},
     "output_type": "display_data"
    }
   ],
   "source": [
    "%%R -i alphasZiRecomb  -i PATH\n",
    "\n",
    "df = as.data.table(alphasZiRecomb)\n",
    "\n",
    "df = df[test != 'asymp2']\n",
    "\n",
    "p = ggplot(df, aes(x = bins, y = value, fill =test)) + geom_boxplot( color = \"grey20\",alpha = 0.7) + theme_bw() + scale_x_discrete(name = \"Recombination rate categories\") +  scale_fill_manual(values=c(\"#30504f\",\"#e2bd9a\",\"#ab2710\",\"#53cf53\",\"#AEB782\",\"#5C8FCE\"),name=\"Method\", labels = c(\"std\" = \"sMKT\", \"emkt2\" = \"eMK 25%\", \"fww1\" = \"fwwMK 25%\", \"fww2\" = \"fwwMK  15%\", \"imp2\" = \"impMK 25%\",\"asymp1\" = \"aMKT\",\"grapes\" = \"Grapes\")) + theme(strip.text=element_text(size=14),axis.text.x = element_text(size=10,angle=45,hjust=1,vjust=1),axis.text.y = element_text(size=14),axis.title=element_text(size=14),legend.position=\"right\",legend.text=element_text(size=14)) + ylab(expression(alpha))\n",
    "\n",
    "ggsave(p,filename = paste0(PATH,'/results/recomb/ziRecomb.svg'),dpi=600,width=10,height=7)\n",
    "ggsave(p,filename = paste0(PATH,'/results/recomb/ziRecomb.png'),dpi=600,width=10,height=7)\n",
    "\n",
    "p"
   ]
  },
  {
   "cell_type": "code",
   "execution_count": 186,
   "metadata": {},
   "outputs": [
    {
     "name": "stderr",
     "output_type": "stream",
     "text": [
      "100%|██████████| 5/5 [00:10<00:00,  2.09s/it]\n"
     ]
    }
   ],
   "source": [
    "df = dmelDataset\n",
    "\n",
    "tmp = df[df['pop'] == 'ZI']\n",
    "b = []\n",
    "replicas = 100\n",
    "population = 'ZI'\n",
    "\n",
    "bins = np.arange(5)\n",
    "\n",
    "with warnings.catch_warnings():\n",
    "    warnings.simplefilter('ignore')\n",
    "    for i in tqdm(bins):\n",
    "\n",
    "        sampling, grp = binByRecombRate(tmp,replicas,i,bins.shape[0])\n",
    "\n",
    "        pool = Pool(processes = 7)\n",
    "        lSfs,lDiv,lM,genes = zip(*pool.starmap(parseBinnedSfs,zip([df]*replicas,[population]*replicas,sampling)))\n",
    "        pool.terminate()\n",
    "\n",
    "        pool = Pool(processes = 7)\n",
    "        tmpB = pool.starmap(bEstimates,zip(lSfs,lDiv,lM,genes,[population]*replicas,np.arange(1,replicas+1).tolist()))\n",
    "        pool.terminate()\n",
    "        tmpB = pd.concat(tmpB)\n",
    "        tmpB['bins'] = grp\n",
    "        b.append(tmpB)\n",
    "\n",
    "    b = pd.concat(b)"
   ]
  },
  {
   "cell_type": "code",
   "execution_count": 187,
   "metadata": {},
   "outputs": [],
   "source": [
    "b.alpha = b.alpha.astype(float)\n",
    "b.b     = b.b.astype(float)\n",
    "b.f     = b.f.astype(float)\n",
    "b.d     = b.d.astype(float)"
   ]
  },
  {
   "cell_type": "code",
   "execution_count": 191,
   "metadata": {},
   "outputs": [
    {
     "data": {
      "text/html": [
       "<div>\n",
       "<style scoped>\n",
       "    .dataframe tbody tr th:only-of-type {\n",
       "        vertical-align: middle;\n",
       "    }\n",
       "\n",
       "    .dataframe tbody tr th {\n",
       "        vertical-align: top;\n",
       "    }\n",
       "\n",
       "    .dataframe thead th {\n",
       "        text-align: right;\n",
       "    }\n",
       "</style>\n",
       "<table border=\"1\" class=\"dataframe\">\n",
       "  <thead>\n",
       "    <tr style=\"text-align: right;\">\n",
       "      <th></th>\n",
       "      <th>id</th>\n",
       "      <th>pop</th>\n",
       "      <th>alpha</th>\n",
       "      <th>b</th>\n",
       "      <th>f</th>\n",
       "      <th>d</th>\n",
       "      <th>bins</th>\n",
       "    </tr>\n",
       "  </thead>\n",
       "  <tbody>\n",
       "    <tr>\n",
       "      <th>0</th>\n",
       "      <td>1_concat</td>\n",
       "      <td>ZI</td>\n",
       "      <td>0.509</td>\n",
       "      <td>0.123664</td>\n",
       "      <td>0.123875</td>\n",
       "      <td>0.752460</td>\n",
       "      <td>(-0.001, 0.653]</td>\n",
       "    </tr>\n",
       "    <tr>\n",
       "      <th>0</th>\n",
       "      <td>2_concat</td>\n",
       "      <td>ZI</td>\n",
       "      <td>0.507</td>\n",
       "      <td>0.122371</td>\n",
       "      <td>0.118886</td>\n",
       "      <td>0.758743</td>\n",
       "      <td>(-0.001, 0.653]</td>\n",
       "    </tr>\n",
       "    <tr>\n",
       "      <th>0</th>\n",
       "      <td>3_concat</td>\n",
       "      <td>ZI</td>\n",
       "      <td>0.523</td>\n",
       "      <td>0.124806</td>\n",
       "      <td>0.120681</td>\n",
       "      <td>0.754513</td>\n",
       "      <td>(-0.001, 0.653]</td>\n",
       "    </tr>\n",
       "    <tr>\n",
       "      <th>0</th>\n",
       "      <td>4_concat</td>\n",
       "      <td>ZI</td>\n",
       "      <td>0.535</td>\n",
       "      <td>0.121344</td>\n",
       "      <td>0.118946</td>\n",
       "      <td>0.759710</td>\n",
       "      <td>(-0.001, 0.653]</td>\n",
       "    </tr>\n",
       "    <tr>\n",
       "      <th>0</th>\n",
       "      <td>5_concat</td>\n",
       "      <td>ZI</td>\n",
       "      <td>0.515</td>\n",
       "      <td>0.120628</td>\n",
       "      <td>0.122794</td>\n",
       "      <td>0.756577</td>\n",
       "      <td>(-0.001, 0.653]</td>\n",
       "    </tr>\n",
       "    <tr>\n",
       "      <th>...</th>\n",
       "      <td>...</td>\n",
       "      <td>...</td>\n",
       "      <td>...</td>\n",
       "      <td>...</td>\n",
       "      <td>...</td>\n",
       "      <td>...</td>\n",
       "      <td>...</td>\n",
       "    </tr>\n",
       "    <tr>\n",
       "      <th>0</th>\n",
       "      <td>96_concat</td>\n",
       "      <td>ZI</td>\n",
       "      <td>0.732</td>\n",
       "      <td>0.084283</td>\n",
       "      <td>0.089839</td>\n",
       "      <td>0.825878</td>\n",
       "      <td>(3.579, 14.799]</td>\n",
       "    </tr>\n",
       "    <tr>\n",
       "      <th>0</th>\n",
       "      <td>97_concat</td>\n",
       "      <td>ZI</td>\n",
       "      <td>0.736</td>\n",
       "      <td>0.083283</td>\n",
       "      <td>0.088456</td>\n",
       "      <td>0.828261</td>\n",
       "      <td>(3.579, 14.799]</td>\n",
       "    </tr>\n",
       "    <tr>\n",
       "      <th>0</th>\n",
       "      <td>98_concat</td>\n",
       "      <td>ZI</td>\n",
       "      <td>0.717</td>\n",
       "      <td>0.082433</td>\n",
       "      <td>0.091971</td>\n",
       "      <td>0.825597</td>\n",
       "      <td>(3.579, 14.799]</td>\n",
       "    </tr>\n",
       "    <tr>\n",
       "      <th>0</th>\n",
       "      <td>99_concat</td>\n",
       "      <td>ZI</td>\n",
       "      <td>0.728</td>\n",
       "      <td>0.082683</td>\n",
       "      <td>0.091566</td>\n",
       "      <td>0.825751</td>\n",
       "      <td>(3.579, 14.799]</td>\n",
       "    </tr>\n",
       "    <tr>\n",
       "      <th>0</th>\n",
       "      <td>100_concat</td>\n",
       "      <td>ZI</td>\n",
       "      <td>0.734</td>\n",
       "      <td>0.082026</td>\n",
       "      <td>0.091264</td>\n",
       "      <td>0.826711</td>\n",
       "      <td>(3.579, 14.799]</td>\n",
       "    </tr>\n",
       "  </tbody>\n",
       "</table>\n",
       "<p>500 rows × 7 columns</p>\n",
       "</div>"
      ],
      "text/plain": [
       "            id pop  alpha         b         f         d             bins\n",
       "0     1_concat  ZI  0.509  0.123664  0.123875  0.752460  (-0.001, 0.653]\n",
       "0     2_concat  ZI  0.507  0.122371  0.118886  0.758743  (-0.001, 0.653]\n",
       "0     3_concat  ZI  0.523  0.124806  0.120681  0.754513  (-0.001, 0.653]\n",
       "0     4_concat  ZI  0.535  0.121344  0.118946  0.759710  (-0.001, 0.653]\n",
       "0     5_concat  ZI  0.515  0.120628  0.122794  0.756577  (-0.001, 0.653]\n",
       "..         ...  ..    ...       ...       ...       ...              ...\n",
       "0    96_concat  ZI  0.732  0.084283  0.089839  0.825878  (3.579, 14.799]\n",
       "0    97_concat  ZI  0.736  0.083283  0.088456  0.828261  (3.579, 14.799]\n",
       "0    98_concat  ZI  0.717  0.082433  0.091971  0.825597  (3.579, 14.799]\n",
       "0    99_concat  ZI  0.728  0.082683  0.091566  0.825751  (3.579, 14.799]\n",
       "0   100_concat  ZI  0.734  0.082026  0.091264  0.826711  (3.579, 14.799]\n",
       "\n",
       "[500 rows x 7 columns]"
      ]
     },
     "execution_count": 191,
     "metadata": {},
     "output_type": "execute_result"
    }
   ],
   "source": [
    "b"
   ]
  },
  {
   "cell_type": "code",
   "execution_count": 196,
   "metadata": {},
   "outputs": [
    {
     "data": {
      "image/png": "[encoded data removed]"
     },
     "metadata": {},
     "output_type": "display_data"
    }
   ],
   "source": [
    "%%R -i b -i PATH\n",
    "\n",
    "b = as.data.table(b)\n",
    "b[['bins']] = as.factor(b[['bins']])\n",
    "\n",
    "pB = ggplot(b,aes(x=bins,y=b,fill=bins))+ geom_boxplot(show.legend=F) + scale_fill_viridis_d() + theme_bw() + theme(strip.text=element_text(size=14),axis.text.x = element_text(size=10,angle=45,hjust=1,vjust=1),axis.text.y = element_text(size=14),axis.title=element_text(size=14),legend.position=\"right\",legend.text=element_text(size=14))\n",
    "\n",
    "ggsave(pB,filename = paste0(PATH,'/results/recomb/bZi.svg'),dpi=600,width=10,height=7)"
   ]
  },
  {
   "cell_type": "markdown",
   "metadata": {
    "heading_collapsed": "true",
    "tags": []
   },
   "source": [
    "## AFR"
   ]
  },
  {
   "cell_type": "code",
   "execution_count": 204,
   "metadata": {},
   "outputs": [],
   "source": [
    "alphasAfrRecomb = alphas['afrRecomb.pkl']; binnedAfrRecomb = binned['afrRecomb.pkl']"
   ]
  },
  {
   "cell_type": "code",
   "execution_count": 205,
   "metadata": {},
   "outputs": [],
   "source": [
    "alphasAfrRecomb.bins = pd.Categorical(alphasAfrRecomb.bins,categories = alphasAfrRecomb.bins.unique())\n",
    "alphasAfrRecomb.test = pd.Categorical(alphasAfrRecomb.test,categories = alphasAfrRecomb.test.unique())"
   ]
  },
  {
   "cell_type": "code",
   "execution_count": 206,
   "metadata": {},
   "outputs": [],
   "source": [
    "alphasAfrRecomb = alphasAfrRecomb[(alphasAfrRecomb.test != 'emkt1') & (alphasAfrRecomb.test != 'fww1') & (alphasAfrRecomb.test != 'imp1') & (alphasAfrRecomb.test != 'asymp2')]"
   ]
  },
  {
   "cell_type": "code",
   "execution_count": 207,
   "metadata": {},
   "outputs": [
    {
     "data": {
      "image/png": "[encoded data removed]"
     },
     "metadata": {},
     "output_type": "display_data"
    }
   ],
   "source": [
    "%%R -i alphasAfrRecomb  -i PATH\n",
    "\n",
    "df = as.data.table(alphasAfrRecomb)\n",
    "\n",
    "df = df[test != 'asymp2']\n",
    "\n",
    "p = ggplot(df, aes(x = bins, y = value, fill =test)) + geom_boxplot( color = \"grey20\",alpha = 0.7) + theme_bw() + scale_x_discrete(name = \"Recombination rate categories\") +  scale_fill_manual(values=c(\"#30504f\",\"#e2bd9a\",\"#ab2710\",\"#53cf53\",\"#AEB782\",\"#5C8FCE\"),name=\"Method\", labels = c(\"std\" = \"sMKT\", \"emkt2\" = \"eMK 25%\", \"fww1\" = \"fwwMK 25%\", \"fww2\" = \"fwwMK  15%\", \"imp2\" = \"impMK 25%\",\"asymp1\" = \"aMKT\",\"grapes\" = \"Grapes\")) + theme(strip.text=element_text(size=14),axis.text.x = element_text(size=10,angle=45,hjust=1,vjust=1),axis.text.y = element_text(size=14),axis.title=element_text(size=14),legend.position=\"right\",legend.text=element_text(size=14)) + ylab(expression(alpha))\n",
    "\n",
    "ggsave(p,filename = paste0(PATH,'/results/recomb/afrRecomb.svg'),dpi=600,width=10,height=7)\n",
    "ggsave(p,filename = paste0(PATH,'/results/recomb/afrRecomb.png'),dpi=600,width=10,height=7)\n",
    "\n",
    "p\n"
   ]
  },
  {
   "cell_type": "code",
   "execution_count": 181,
   "metadata": {},
   "outputs": [
    {
     "name": "stderr",
     "output_type": "stream",
     "text": [
      "100%|██████████| 5/5 [00:12<00:00,  2.49s/it]\n"
     ]
    }
   ],
   "source": [
    "df = humanDataset\n",
    "\n",
    "tmp = df[df['pop'] == 'AFR']\n",
    "b = []\n",
    "replicas = 100\n",
    "population = 'AFR'\n",
    "\n",
    "bins = np.arange(5)\n",
    "\n",
    "with warnings.catch_warnings():\n",
    "    warnings.simplefilter('ignore')\n",
    "    for i in tqdm(bins):\n",
    "\n",
    "        sampling, grp = binByRecombRate(tmp,replicas,i,bins.shape[0])\n",
    "\n",
    "        pool = Pool(processes = 7)\n",
    "        lSfs,lDiv,lM,genes = zip(*pool.starmap(parseBinnedSfs,zip([df]*replicas,[population]*replicas,sampling)))\n",
    "        pool.terminate()\n",
    "\n",
    "        pool = Pool(processes = 7)\n",
    "        tmpB = pool.starmap(bEstimates,zip(lSfs,lDiv,lM,genes,[population]*replicas,np.arange(1,replicas+1).tolist()))\n",
    "        pool.terminate()\n",
    "        tmpB = pd.concat(tmpB)\n",
    "        tmpB['bins'] = grp\n",
    "        b.append(tmpB)\n",
    "\n",
    "    b = pd.concat(b)"
   ]
  },
  {
   "cell_type": "code",
   "execution_count": 182,
   "metadata": {},
   "outputs": [],
   "source": [
    "b.alpha = b.alpha.astype(float)\n",
    "b.b     = b.b.astype(float)"
   ]
  },
  {
   "cell_type": "code",
   "execution_count": 183,
   "metadata": {},
   "outputs": [],
   "source": [
    "%%R -i b -i PATH\n",
    "\n",
    "b = as.data.table(b)\n",
    "b[['bins']] = as.factor(b[['bins']])\n",
    "\n",
    "pB = ggplot(b,aes(x=bins,y=b,fill=bins))+ geom_boxplot(show.legend=F) + scale_fill_viridis_d() + theme_bw() + theme(strip.text=element_text(size=14),axis.text.x = element_text(size=10,angle=45,hjust=1,vjust=1),axis.text.y = element_text(size=14),axis.title=element_text(size=14),legend.position=\"right\",legend.text=element_text(size=14))\n",
    "\n",
    "ggsave(pB,filename = paste0(PATH,'/results/recomb/bAfr.svg'),dpi=600,width=10,height=7)"
   ]
  },
  {
   "cell_type": "markdown",
   "metadata": {},
   "source": [
    "# Tables"
   ]
  },
  {
   "cell_type": "code",
   "execution_count": 88,
   "metadata": {},
   "outputs": [],
   "source": [
    "dfRecomb = pd.concat([alphasZiRecomb,alphasAfrRecomb])"
   ]
  },
  {
   "cell_type": "code",
   "execution_count": 89,
   "metadata": {},
   "outputs": [],
   "source": [
    "tmpRecomb = dfRecomb.groupby(['test','pop','bins']).value.describe(percentiles=[0.05,0.5,0.95])[['mean','5%','95%']].reset_index()"
   ]
  },
  {
   "cell_type": "code",
   "execution_count": 90,
   "metadata": {},
   "outputs": [],
   "source": [
    "tmpRecomb[['ci']] = np.round(tmpRecomb[['mean']],3).astype(str).values + ' (' + np.round(tmpRecomb[['5%']],3).astype(str).values + '-' + np.round(tmpRecomb[['95%']],3).astype(str).values +')'"
   ]
  },
  {
   "cell_type": "code",
   "execution_count": 91,
   "metadata": {},
   "outputs": [
    {
     "data": {
      "text/html": [
       "<div>\n",
       "<style scoped>\n",
       "    .dataframe tbody tr th:only-of-type {\n",
       "        vertical-align: middle;\n",
       "    }\n",
       "\n",
       "    .dataframe tbody tr th {\n",
       "        vertical-align: top;\n",
       "    }\n",
       "\n",
       "    .dataframe thead tr th {\n",
       "        text-align: left;\n",
       "    }\n",
       "</style>\n",
       "<table border=\"1\" class=\"dataframe\">\n",
       "  <thead>\n",
       "    <tr>\n",
       "      <th></th>\n",
       "      <th>pop</th>\n",
       "      <th>bins</th>\n",
       "      <th colspan=\"6\" halign=\"left\">ci</th>\n",
       "    </tr>\n",
       "    <tr>\n",
       "      <th>test</th>\n",
       "      <th></th>\n",
       "      <th></th>\n",
       "      <th>asymp1</th>\n",
       "      <th>emkt2</th>\n",
       "      <th>fww2</th>\n",
       "      <th>grapes</th>\n",
       "      <th>imp2</th>\n",
       "      <th>std</th>\n",
       "    </tr>\n",
       "  </thead>\n",
       "  <tbody>\n",
       "    <tr>\n",
       "      <th>0</th>\n",
       "      <td>AFR</td>\n",
       "      <td>(-0.000761, 0.0991]</td>\n",
       "      <td>0.048 (0.002-0.089)</td>\n",
       "      <td>-0.516 (-0.546--0.475)</td>\n",
       "      <td>0.051 (0.009-0.105)</td>\n",
       "      <td>0.221 (0.178-0.264)</td>\n",
       "      <td>0.051 (0.009-0.105)</td>\n",
       "      <td>-0.562 (-0.593--0.519)</td>\n",
       "    </tr>\n",
       "    <tr>\n",
       "      <th>1</th>\n",
       "      <td>AFR</td>\n",
       "      <td>(0.0991, 0.275]</td>\n",
       "      <td>0.177 (0.129-0.228)</td>\n",
       "      <td>-0.46 (-0.501--0.421)</td>\n",
       "      <td>0.112 (0.074-0.15)</td>\n",
       "      <td>0.272 (0.237-0.314)</td>\n",
       "      <td>0.112 (0.074-0.15)</td>\n",
       "      <td>-0.509 (-0.555--0.469)</td>\n",
       "    </tr>\n",
       "    <tr>\n",
       "      <th>2</th>\n",
       "      <td>AFR</td>\n",
       "      <td>(0.275, 0.675]</td>\n",
       "      <td>0.104 (0.059-0.148)</td>\n",
       "      <td>-0.416 (-0.463--0.377)</td>\n",
       "      <td>0.088 (0.047-0.121)</td>\n",
       "      <td>0.272 (0.24-0.309)</td>\n",
       "      <td>0.088 (0.047-0.121)</td>\n",
       "      <td>-0.462 (-0.513--0.421)</td>\n",
       "    </tr>\n",
       "    <tr>\n",
       "      <th>3</th>\n",
       "      <td>AFR</td>\n",
       "      <td>(0.675, 1.682]</td>\n",
       "      <td>0.093 (0.045-0.136)</td>\n",
       "      <td>-0.455 (-0.488--0.422)</td>\n",
       "      <td>0.079 (0.047-0.115)</td>\n",
       "      <td>0.255 (0.222-0.282)</td>\n",
       "      <td>0.079 (0.047-0.115)</td>\n",
       "      <td>-0.508 (-0.543--0.473)</td>\n",
       "    </tr>\n",
       "    <tr>\n",
       "      <th>4</th>\n",
       "      <td>AFR</td>\n",
       "      <td>(1.682, 86.611]</td>\n",
       "      <td>0.134 (0.082-0.179)</td>\n",
       "      <td>-0.359 (-0.411--0.31)</td>\n",
       "      <td>0.12 (0.069-0.156)</td>\n",
       "      <td>0.286 (0.253-0.31)</td>\n",
       "      <td>0.12 (0.069-0.156)</td>\n",
       "      <td>-0.409 (-0.463--0.358)</td>\n",
       "    </tr>\n",
       "    <tr>\n",
       "      <th>5</th>\n",
       "      <td>ZI</td>\n",
       "      <td>(-0.001, 0.653]</td>\n",
       "      <td>0.494 (0.466-0.519)</td>\n",
       "      <td>0.11 (0.078-0.145)</td>\n",
       "      <td>0.513 (0.492-0.536)</td>\n",
       "      <td>0.624 (0.602-0.644)</td>\n",
       "      <td>0.513 (0.492-0.536)</td>\n",
       "      <td>0.026 (-0.009-0.062)</td>\n",
       "    </tr>\n",
       "    <tr>\n",
       "      <th>6</th>\n",
       "      <td>ZI</td>\n",
       "      <td>(0.653, 1.525]</td>\n",
       "      <td>0.633 (0.618-0.65)</td>\n",
       "      <td>0.361 (0.342-0.382)</td>\n",
       "      <td>0.646 (0.633-0.661)</td>\n",
       "      <td>0.736 (0.725-0.745)</td>\n",
       "      <td>0.646 (0.633-0.661)</td>\n",
       "      <td>0.293 (0.272-0.316)</td>\n",
       "    </tr>\n",
       "    <tr>\n",
       "      <th>7</th>\n",
       "      <td>ZI</td>\n",
       "      <td>(1.525, 2.386]</td>\n",
       "      <td>0.66 (0.637-0.678)</td>\n",
       "      <td>0.454 (0.428-0.475)</td>\n",
       "      <td>0.688 (0.672-0.702)</td>\n",
       "      <td>0.771 (0.76-0.784)</td>\n",
       "      <td>0.688 (0.672-0.702)</td>\n",
       "      <td>0.396 (0.367-0.42)</td>\n",
       "    </tr>\n",
       "    <tr>\n",
       "      <th>8</th>\n",
       "      <td>ZI</td>\n",
       "      <td>(2.386, 3.579]</td>\n",
       "      <td>0.682 (0.668-0.696)</td>\n",
       "      <td>0.474 (0.454-0.493)</td>\n",
       "      <td>0.699 (0.686-0.711)</td>\n",
       "      <td>0.782 (0.769-0.793)</td>\n",
       "      <td>0.699 (0.686-0.711)</td>\n",
       "      <td>0.418 (0.396-0.439)</td>\n",
       "    </tr>\n",
       "    <tr>\n",
       "      <th>9</th>\n",
       "      <td>ZI</td>\n",
       "      <td>(3.579, 14.799]</td>\n",
       "      <td>0.699 (0.676-0.713)</td>\n",
       "      <td>0.52 (0.5-0.537)</td>\n",
       "      <td>0.722 (0.71-0.733)</td>\n",
       "      <td>0.799 (0.788-0.808)</td>\n",
       "      <td>0.722 (0.711-0.733)</td>\n",
       "      <td>0.469 (0.446-0.486)</td>\n",
       "    </tr>\n",
       "  </tbody>\n",
       "</table>\n",
       "</div>"
      ],
      "text/plain": [
       "      pop                 bins                   ci                          \\\n",
       "test                                         asymp1                   emkt2   \n",
       "0     AFR  (-0.000761, 0.0991]  0.048 (0.002-0.089)  -0.516 (-0.546--0.475)   \n",
       "1     AFR      (0.0991, 0.275]  0.177 (0.129-0.228)   -0.46 (-0.501--0.421)   \n",
       "2     AFR       (0.275, 0.675]  0.104 (0.059-0.148)  -0.416 (-0.463--0.377)   \n",
       "3     AFR       (0.675, 1.682]  0.093 (0.045-0.136)  -0.455 (-0.488--0.422)   \n",
       "4     AFR      (1.682, 86.611]  0.134 (0.082-0.179)   -0.359 (-0.411--0.31)   \n",
       "5      ZI      (-0.001, 0.653]  0.494 (0.466-0.519)      0.11 (0.078-0.145)   \n",
       "6      ZI       (0.653, 1.525]   0.633 (0.618-0.65)     0.361 (0.342-0.382)   \n",
       "7      ZI       (1.525, 2.386]   0.66 (0.637-0.678)     0.454 (0.428-0.475)   \n",
       "8      ZI       (2.386, 3.579]  0.682 (0.668-0.696)     0.474 (0.454-0.493)   \n",
       "9      ZI      (3.579, 14.799]  0.699 (0.676-0.713)        0.52 (0.5-0.537)   \n",
       "\n",
       "                                                                     \\\n",
       "test                 fww2               grapes                 imp2   \n",
       "0     0.051 (0.009-0.105)  0.221 (0.178-0.264)  0.051 (0.009-0.105)   \n",
       "1      0.112 (0.074-0.15)  0.272 (0.237-0.314)   0.112 (0.074-0.15)   \n",
       "2     0.088 (0.047-0.121)   0.272 (0.24-0.309)  0.088 (0.047-0.121)   \n",
       "3     0.079 (0.047-0.115)  0.255 (0.222-0.282)  0.079 (0.047-0.115)   \n",
       "4      0.12 (0.069-0.156)   0.286 (0.253-0.31)   0.12 (0.069-0.156)   \n",
       "5     0.513 (0.492-0.536)  0.624 (0.602-0.644)  0.513 (0.492-0.536)   \n",
       "6     0.646 (0.633-0.661)  0.736 (0.725-0.745)  0.646 (0.633-0.661)   \n",
       "7     0.688 (0.672-0.702)   0.771 (0.76-0.784)  0.688 (0.672-0.702)   \n",
       "8     0.699 (0.686-0.711)  0.782 (0.769-0.793)  0.699 (0.686-0.711)   \n",
       "9      0.722 (0.71-0.733)  0.799 (0.788-0.808)  0.722 (0.711-0.733)   \n",
       "\n",
       "                              \n",
       "test                     std  \n",
       "0     -0.562 (-0.593--0.519)  \n",
       "1     -0.509 (-0.555--0.469)  \n",
       "2     -0.462 (-0.513--0.421)  \n",
       "3     -0.508 (-0.543--0.473)  \n",
       "4     -0.409 (-0.463--0.358)  \n",
       "5       0.026 (-0.009-0.062)  \n",
       "6        0.293 (0.272-0.316)  \n",
       "7         0.396 (0.367-0.42)  \n",
       "8        0.418 (0.396-0.439)  \n",
       "9        0.469 (0.446-0.486)  "
      ]
     },
     "execution_count": 91,
     "metadata": {},
     "output_type": "execute_result"
    }
   ],
   "source": [
    "recombPaper = pd.pivot_table(tmpRecomb[['test','pop','bins','ci']], values=['ci'], index=['pop','bins'],columns = 'test',aggfunc=lambda x: ' '.join(x)).reset_index();recombPaper"
   ]
  },
  {
   "cell_type": "code",
   "execution_count": 92,
   "metadata": {},
   "outputs": [],
   "source": [
    "recombPaper.to_csv(PATH + '/results/recomb/recomb.tsv',sep='\\t')"
   ]
  }
 ],
 "metadata": {
  "kernelspec": {
   "display_name": "Python 3",
   "language": "python",
   "name": "python3"
  },
  "language_info": {
   "codemirror_mode": {
    "name": "ipython",
    "version": 3
   },
   "file_extension": ".py",
   "mimetype": "text/x-python",
   "name": "python",
   "nbconvert_exporter": "python",
   "pygments_lexer": "ipython3",
   "version": "3.8.5"
  }
 },
 "nbformat": 4,
 "nbformat_minor": 4
}
