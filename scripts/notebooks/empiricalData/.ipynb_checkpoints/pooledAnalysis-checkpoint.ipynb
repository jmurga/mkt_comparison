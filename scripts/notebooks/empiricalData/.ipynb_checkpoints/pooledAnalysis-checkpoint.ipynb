{
 "cells": [
  {
   "cell_type": "markdown",
   "metadata": {},
   "source": [
    "Load libraries"
   ]
  },
  {
   "cell_type": "code",
   "execution_count": 1,
   "metadata": {},
   "outputs": [],
   "source": [
    "import numpy as np\n",
    "import pandas as pd\n",
    "import pickle as pkl\n",
    "import warnings\n",
    "from tqdm import tqdm\n",
    "\n",
    "PATH =  \"/home/jmurga/mkt/201902\"\n",
    "import sys\n",
    "sys.path.insert(0, PATH + '/scripts/src/')\n",
    "from mktAnalysis import *"
   ]
  },
  {
   "cell_type": "markdown",
   "metadata": {},
   "source": [
    "Load main data"
   ]
  },
  {
   "cell_type": "code",
   "execution_count": 2,
   "metadata": {},
   "outputs": [],
   "source": [
    "dmelDataset  = pd.read_csv(PATH + \"/results/dsimDmelSitesBinned.tsv\",sep='\\t')\n",
    "humanDataset = pd.read_csv(PATH + \"/results/afrEur.tsv\",sep='\\t')"
   ]
  },
  {
   "cell_type": "code",
   "execution_count": 3,
   "metadata": {},
   "outputs": [],
   "source": [
    "dmelDataset  = dmelDataset[(dmelDataset.pi != 0 ) & (dmelDataset.p0 != 0) & (dmelDataset.di != 0) & (dmelDataset.d0 != 0) & (dmelDataset.mi != 0) & (dmelDataset.m0 != 0)]\n",
    "humanDataset = humanDataset[(humanDataset.pi != 0 ) & (humanDataset.p0 != 0) & (humanDataset.di != 0) & (humanDataset.d0 != 0) & (humanDataset.mi != 0) & (humanDataset.m0 != 0)]"
   ]
  },
  {
   "cell_type": "code",
   "execution_count": 4,
   "metadata": {},
   "outputs": [],
   "source": [
    "%load_ext rpy2.ipython"
   ]
  },
  {
   "cell_type": "markdown",
   "metadata": {
    "tags": []
   },
   "source": [
    "# Resampling analysis"
   ]
  },
  {
   "cell_type": "markdown",
   "metadata": {
    "tags": []
   },
   "source": [
    "## Zi"
   ]
  },
  {
   "cell_type": "code",
   "execution_count": null,
   "metadata": {},
   "outputs": [],
   "source": [
    "alphasZi = []\n",
    "binnedZi = []\n",
    "with warnings.catch_warnings():\n",
    "    warnings.simplefilter('ignore')\n",
    "    for i in tqdm(np.array([1,2,5,10,25,50,75,100,250,500,750,1000])):\n",
    "        a, b = sampleAnalysis(df = dmelDataset,population=\"ZI\",sample=i,replicas=1000,dofe=PATH + \"/rawData/dofe/pooled\",nthreads=20)\n",
    "        a['bins'] = i; b['bins'] = i\n",
    "        alphasZi.append(a)\n",
    "        binnedZi.append(b)\n",
    "alphasZi = pd.concat(alphasZi)\n",
    "binnedZi = pd.concat(binnedZi)"
   ]
  },
  {
   "cell_type": "code",
   "execution_count": null,
   "metadata": {},
   "outputs": [],
   "source": [
    "pkl.dump([alphasZi,binnedZi],open(PATH + \"/results/pooled/ziPooled.pkl\", \"wb\" ))"
   ]
  },
  {
   "cell_type": "markdown",
   "metadata": {},
   "source": [
    "**The function *sampleAnalysis* generate the dofe files required to run Grapes. Please check the path where you save the dofe files by bin.**\n",
    "\n",
    "**Because of the amount of replicas and Grapes execution time, we executed the analysis in an HPC using HTCondor scheduler. Please consider to use an HPC to run these part of the pipeline, otherwise consider to use GNU-Parallel to run the replicas. The next cells contains a submission file example considering the 1000 bin folder. We moved the dofe folder to perform the analysis**"
   ]
  },
  {
   "cell_type": "markdown",
   "metadata": {},
   "source": [
    "```bash \n",
    "\n",
    "executable=/data/bioinfo/software/grapes/grapes\n",
    "arguments=\"-in /nfs/pic.es/user/j/jmurgamo/dofe/pooled/zi/1000/$(Item)_concat.dofe -out /nfs/pic.es/user/j/jmurgamo/dofe/pooled/zi/1000/$(Item)_concat.GammaZero -model GammaZero\"\n",
    "\n",
    "error = err/err.grapes.$(Item)\n",
    "log = log/log.grapes.$(Item)\n",
    "\n",
    "queue 1 from seq 1 1000 |\n",
    "\n",
    "```"
   ]
  },
  {
   "cell_type": "markdown",
   "metadata": {},
   "source": [
    "**Execute grapes before continue**"
   ]
  },
  {
   "cell_type": "code",
   "execution_count": null,
   "metadata": {},
   "outputs": [],
   "source": [
    "df = list()\n",
    "for i in np.array([1,2,5,10,25,50,75,100,250,500,750,1000]):\n",
    "    tmp = grapesOutput(PATH + \"/rawData/dofe/pooled/zi/\"+str(i)+\"/bootstrap/\",\"GammaZero\",7)\n",
    "    tmp['bins'] = i\n",
    "    tmp['pop']  = 'ZI'\n",
    "    df.append(tmp)\n",
    "grapesZi = pd.concat(df)\n",
    "grapesZi.to_csv(PATH + \"/results/pooled/bootstrap/grapesBootstrapZi.tsv\",sep='\\t',index=False)"
   ]
  },
  {
   "cell_type": "markdown",
   "metadata": {
    "heading_collapsed": true,
    "tags": []
   },
   "source": [
    "## Afr"
   ]
  },
  {
   "cell_type": "code",
   "execution_count": 50,
   "metadata": {
    "hidden": true
   },
   "outputs": [
    {
     "name": "stderr",
     "output_type": "stream",
     "text": [
      "100%|██████████| 1/1 [01:10<00:00, 70.38s/it]\n"
     ]
    }
   ],
   "source": [
    "alphasAfr = []\n",
    "binnedAfr = []\n",
    "with warnings.catch_warnings():\n",
    "    warnings.simplefilter('ignore')\n",
    "    for i in tqdm(np.array([1,2,5,10,25,50,75,100,250,500,750,1000])):\n",
    "        a, b = sampleAnalysis(df = humanDataset,population=\"AFR\",sample=i,replicas=1000,dofe=PATH + \"/rawData/dofe/pooled\",nthreads=8)\n",
    "        alphasAfr.append(a)\n",
    "        binnedAfr.append(b)\n",
    "alphasAfr = pd.concat(alphasAfr)\n",
    "binnedAfr = pd.concat(binnedAfr)"
   ]
  },
  {
   "cell_type": "code",
   "execution_count": 44,
   "metadata": {
    "hidden": true
   },
   "outputs": [],
   "source": [
    "pkl.dump([alphasAfr,binnedAfr],open(PATH + \"/results/pooled/afrPooled.pkl\", \"wb\" ))"
   ]
  },
  {
   "cell_type": "markdown",
   "metadata": {
    "hidden": true
   },
   "source": [
    "**The function *sampleAnalysis* generate the dofe files required to run Grapes. Please check the path where you save the dofe files by bin.**\n",
    "\n",
    "**Because of the amount of replicas and Grapes execution time, we executed the analysis in an HPC using HTCondor scheduler. Please consider to use an HPC to run these part of the pipeline, otherwise consider to use GNU-Parallel to run the replicas. The next cells contains a submission file example considering the 1000 bin folder. We moved the dofe folder to perform the analysis**"
   ]
  },
  {
   "cell_type": "markdown",
   "metadata": {
    "hidden": true
   },
   "source": [
    "```bash \n",
    "\n",
    "executable=/data/bioinfo/software/grapes/grapes\n",
    "arguments=\"-in /nfs/pic.es/user/j/jmurgamo/dofe/pooled/afr/1000/$(Item)_concat.dofe -out /nfs/pic.es/user/j/jmurgamo/dofe/pooled/afr/1000/$(Item)_concat.GammaZero -model GammaZero\"\n",
    "\n",
    "error = err/err.grapes.$(Item)\n",
    "log = log/log.grapes.$(Item)\n",
    "\n",
    "queue 1 from seq 1 1000 |\n",
    "\n",
    "```"
   ]
  },
  {
   "cell_type": "markdown",
   "metadata": {
    "heading_collapsed": true,
    "tags": []
   },
   "source": [
    "# Plot"
   ]
  },
  {
   "cell_type": "markdown",
   "metadata": {
    "hidden": true
   },
   "source": [
    "Loading data from pickle and formating to plot in R"
   ]
  },
  {
   "cell_type": "code",
   "execution_count": 5,
   "metadata": {
    "hidden": true
   },
   "outputs": [],
   "source": [
    "alphas, binned = loadPickleAlphas(PATH + \"/results/pooled/*.pkl\")"
   ]
  },
  {
   "cell_type": "markdown",
   "metadata": {
    "hidden": true,
    "tags": []
   },
   "source": [
    "## ZI"
   ]
  },
  {
   "cell_type": "code",
   "execution_count": 6,
   "metadata": {
    "hidden": true
   },
   "outputs": [],
   "source": [
    "alphasZi = alphas['zi']; binnedZi = binned['zi']"
   ]
  },
  {
   "cell_type": "code",
   "execution_count": 7,
   "metadata": {
    "hidden": true
   },
   "outputs": [
    {
     "name": "stderr",
     "output_type": "stream",
     "text": [
      "100%|██████████| 12/12 [00:52<00:00,  4.40s/it]\n"
     ]
    }
   ],
   "source": [
    "grapesPooledZi = []\n",
    "for i in tqdm(np.array(glob.glob(PATH + \"/rawData/dofe/pooled/zi/*\"))):\n",
    "    tmp,tmp2,tmp3 = grapesOutput(i,\"GammaZero\",\"ZI\",5)\n",
    "    tmp['bins'] = int(i.split('/')[-1])\n",
    "    tmp['pop'] = 'ZI'\n",
    "    grapesPooledZi.append(tmp)\n",
    "grapesPooledZi = pd.concat(grapesPooledZi)\n",
    "grapesPooledZi.sort_values('bins',inplace=True)"
   ]
  },
  {
   "cell_type": "code",
   "execution_count": 8,
   "metadata": {
    "hidden": true
   },
   "outputs": [],
   "source": [
    "dfZi = pd.concat([pd.melt(grapesPooledZi,id_vars=['test','bins','pop'],value_vars='alpha'),alphasZi])\n",
    "dfZi.bins = dfZi.bins.astype(str)\n",
    "dfZi.bins = pd.Categorical(dfZi.bins,categories=dfZi.bins.unique())"
   ]
  },
  {
   "cell_type": "code",
   "execution_count": 9,
   "metadata": {},
   "outputs": [],
   "source": [
    "a = dfZi.groupby(['test','bins']).value.var().reset_index()"
   ]
  },
  {
   "cell_type": "code",
   "execution_count": 12,
   "metadata": {},
   "outputs": [],
   "source": [
    "grapesCountZi = grapesPooledZi.groupby(['test','bins','pop']).alpha.count().reset_index()"
   ]
  },
  {
   "cell_type": "code",
   "execution_count": 28,
   "metadata": {
    "hidden": true
   },
   "outputs": [
    {
     "name": "stderr",
     "output_type": "stream",
     "text": [
      "R[write to console]: Saving 14 x 6.67 in image\n",
      "\n"
     ]
    },
    {
     "data": {
      "image/png": "[encoded data removed]"
     },
     "metadata": {},
     "output_type": "display_data"
    }
   ],
   "source": [
    "%%R -i binnedZi -i dfZi -i grapesPooledZi -i grapesCountZi -i PATH\n",
    "\n",
    "library(cowplot)\n",
    "\n",
    "binnedZi = as.data.table(binnedZi)\n",
    "grapesPooledZi = as.data.table(grapesPooledZi)\n",
    "grapesPooledZi[['bins']] = as.factor(grapesPooledZi[['bins']])\n",
    "dfZi = as.data.table(dfZi)\n",
    "\n",
    "\n",
    "#ci = ggplot(grapesPooledZi,aes(x = bins, y = alpha_range, fill=bins)) + geom_boxplot(show.legend=F) + labs(x = \"Bins\", y=expression(paste('CI ',alpha))) + theme_bw() + scale_fill_manual(values=c(rep(\"#e2bd9a\",length(grapesPooledZi[['bins']])))) + theme(strip.text=element_text(size=14),axis.text.x = element_text(size=12,angle=90),axis.text.y = element_text(size=12),axis.title=element_text(size=14)) + ggtitle(\"\") + geom_hline(yintercept=0.25,linetype='dashed') \n",
    "\n",
    "d = dfZi[test == 'std' | test == 'imp2' | test == 'asymp2' | test == 'grapes']\n",
    "d$test = factor(d$test,levels=c('std','imp2','asymp2','grapes'))\n",
    "levels(d$test) = c('MKT','impMKT','aMKT','Grapes')\n",
    "\n",
    "p = ggplot(d) + geom_boxplot(aes(x = bins, y = value, fill=test),alpha=0.8,show.legend=T) + labs(x='',y=expression(alpha)) + theme_bw()  + scale_fill_manual(values=c(\"#5C8FCE\",\"#30504f\",\"#ab2710\",\"#e2bd9a\"),name = \"Test\", labels = c(\"MKT\",\"impMKT\", \"aMKT\",\"Grapes\")) + theme(strip.text=element_text(size=14),axis.text.x = element_text(size=14,angle=45,hjust=1,vjust=1),axis.title=element_text(size=14),legend.position=\"bottom\",legend.text=element_text(size=14))\n",
    "p = p + facet_wrap(~test) + ylim(-10,1)\n",
    "\n",
    "fraction_original = binnedZi[test=='std']\n",
    "fraction_original[['TRUE']] = fraction_original[['count']]/1000\n",
    "fraction_original[['FALSE']]= 1 - fraction_original[['TRUE']]\n",
    "fraction_original = melt(fraction_original,id.vars=c('test','pop','bins'),measure.vars=c('TRUE','FALSE'))\n",
    "\n",
    "pFraction_original = ggplot(fraction_original) + geom_bar(stat=\"identity\", aes(x=as.factor(bins), y=value,fill=variable),alpha=0.8, color=\"black\") + theme_bw() + theme(strip.text=element_text(size=14),axis.text.x = element_text(size=12,angle=45,hjust=1,vjust=1),axis.text.y = element_text(size=8),axis.title=element_text(size=14),legend.position=\"top\") + xlab(\"Bins\") + ylab(\"Proportion\") + scale_fill_manual(values=c(\"#5C8FCE\",\"gray90\"),name = \"\", labels = c(\"True\", \"False\")) + scale_y_continuous(breaks=seq(0,1,0.5))\n",
    "\n",
    "fraction = binnedZi[test=='imp2']\n",
    "fraction[['TRUE']] = fraction[['count']]/1000\n",
    "fraction[['FALSE']]= 1 - fraction[['TRUE']]\n",
    "fraction = melt(fraction,id.vars=c('test','pop','bins'),measure.vars=c('TRUE','FALSE'))\n",
    "\n",
    "pFraction = ggplot(fraction) + geom_bar(stat=\"identity\", aes(x=as.factor(bins), y=value,fill=variable),alpha=0.8, color=\"black\") + theme_bw() + theme(strip.text=element_text(size=14),axis.text.x = element_text(size=12,angle=45,hjust=1,vjust=1),axis.text.y = element_text(size=8),axis.title=element_text(size=14),legend.position=\"top\") + xlab(\"Bins\") + ylab(\"Proportion\") + scale_fill_manual(values=c(\"#30504f\",\"gray90\"),name = \"\", labels = c(\"True\", \"False\")) + scale_y_continuous(breaks=seq(0,1,0.5))\n",
    "\n",
    "fraction2 = binnedZi[test=='asymp1']\n",
    "fraction2[['TRUE']] = fraction2[['count']]/1000\n",
    "fraction2[['FALSE']]= 1 - fraction2[['TRUE']]\n",
    "fraction2 = melt(fraction2,id.vars=c('test','pop','bins'),measure.vars=c('TRUE','FALSE'))\n",
    "\n",
    "pFraction2 = ggplot(fraction2) + geom_bar(stat=\"identity\", aes(x=as.factor(bins), y=value,fill=variable),alpha=0.8, color=\"black\") + theme_bw() + theme(strip.text=element_text(size=14),axis.text.x = element_text(size=12,angle=45,hjust=1,vjust=1),axis.text.y = element_text(size=8),axis.title=element_text(size=14),legend.position=\"top\") + xlab(\"Bins\") + ylab(\"Proportion\") + scale_fill_manual(values=c(\"#ab2710\",\"gray90\"),name = \"\", labels = c(\"True\", \"False\")) + scale_y_continuous(breaks=seq(0,1,0.5))\n",
    "\n",
    "names(grapesCountZi)[4] = 'count'\n",
    "\n",
    "fraction3 = grapesCountZi\n",
    "fraction3[['TRUE']] = fraction3[['count']]/1000\n",
    "fraction3[['FALSE']]= 1 - fraction3[['TRUE']]\n",
    "fraction3 = melt(fraction3,id.vars=c('test','pop','bins'),measure.vars=c('TRUE','FALSE'))\n",
    "\n",
    "\n",
    "pFraction3 = ggplot(fraction3) + geom_bar(stat=\"identity\", aes(x=as.factor(bins), y=value,fill=variable),alpha=0.8, color=\"black\") + theme_bw() + theme(strip.text=element_text(size=14),axis.text.x = element_text(size=12,angle=45,hjust=1,vjust=1),axis.text.y = element_text(size=8),axis.title=element_text(size=14),legend.position=\"top\") + xlab(\"Bins\") + ylab(\"Proportion\") + scale_fill_manual(values=c(\"#e2bd9a\",\"gray90\"),name = \"\", labels = c(\"True\", \"False\")) + scale_y_continuous(breaks=seq(0,1,0.5))\n",
    "\n",
    "\n",
    "tmp = plot_grid(pFraction_original,pFraction,pFraction2,pFraction3,ncol = 1,rel_heights = c(1,1,1,1),labels=c('B','C','D','E'))\n",
    "\n",
    "pgrid = plot_grid(p,tmp,ncol=2,rel_widths = c(2, 1),labels=c('A',''))\n",
    "\n",
    "ggsave(pgrid,filename=paste0(\"/home/jmurga/zi_pooled_v4.svg\"),dpi=600,width=14)\n",
    "#ggsave(pgrid,filename=paste0(PATH,\"/results/pooled/ziPooled_v3.svg\"),dpi=600,width=14)\n",
    "#ggsave(pgrid,filename=paste0(PATH,\"/results/pooled/ziPooled_v3.png\"),dpi=600,width=14)\n",
    "pgrid\n"
   ]
  },
  {
   "cell_type": "markdown",
   "metadata": {
    "hidden": true,
    "tags": []
   },
   "source": [
    "## AFR"
   ]
  },
  {
   "cell_type": "code",
   "execution_count": 10,
   "metadata": {
    "hidden": true
   },
   "outputs": [],
   "source": [
    "alphasAfr = alphas['afr']; binnedAfr = binned['afr']"
   ]
  },
  {
   "cell_type": "code",
   "execution_count": 11,
   "metadata": {
    "hidden": true,
    "scrolled": true,
    "tags": []
   },
   "outputs": [
    {
     "name": "stderr",
     "output_type": "stream",
     "text": [
      "  8%|▊         | 1/12 [00:04<00:46,  4.23s/it]\n"
     ]
    },
    {
     "ename": "ValueError",
     "evalue": "No objects to concatenate",
     "output_type": "error",
     "traceback": [
      "\u001b[0;31m---------------------------------------------------------------------------\u001b[0m",
      "\u001b[0;31mValueError\u001b[0m                                Traceback (most recent call last)",
      "\u001b[0;32m<ipython-input-11-5f5bed681499>\u001b[0m in \u001b[0;36m<module>\u001b[0;34m\u001b[0m\n\u001b[1;32m      1\u001b[0m \u001b[0mgrapesPooledAfr\u001b[0m \u001b[0;34m=\u001b[0m \u001b[0;34m[\u001b[0m\u001b[0;34m]\u001b[0m\u001b[0;34m\u001b[0m\u001b[0;34m\u001b[0m\u001b[0m\n\u001b[1;32m      2\u001b[0m \u001b[0;32mfor\u001b[0m \u001b[0mi\u001b[0m \u001b[0;32min\u001b[0m \u001b[0mtqdm\u001b[0m\u001b[0;34m(\u001b[0m\u001b[0mnp\u001b[0m\u001b[0;34m.\u001b[0m\u001b[0marray\u001b[0m\u001b[0;34m(\u001b[0m\u001b[0mglob\u001b[0m\u001b[0;34m.\u001b[0m\u001b[0mglob\u001b[0m\u001b[0;34m(\u001b[0m\u001b[0mPATH\u001b[0m \u001b[0;34m+\u001b[0m \u001b[0;34m\"/rawData/dofe/pooled/afr/*\"\u001b[0m\u001b[0;34m)\u001b[0m\u001b[0;34m)\u001b[0m\u001b[0;34m)\u001b[0m\u001b[0;34m:\u001b[0m\u001b[0;34m\u001b[0m\u001b[0;34m\u001b[0m\u001b[0m\n\u001b[0;32m----> 3\u001b[0;31m     \u001b[0mtmp\u001b[0m\u001b[0;34m,\u001b[0m\u001b[0mtmp2\u001b[0m\u001b[0;34m,\u001b[0m\u001b[0mtmp3\u001b[0m \u001b[0;34m=\u001b[0m \u001b[0mgrapesOutput\u001b[0m\u001b[0;34m(\u001b[0m\u001b[0mi\u001b[0m\u001b[0;34m,\u001b[0m\u001b[0;34m\"GammaZero\"\u001b[0m\u001b[0;34m,\u001b[0m\u001b[0;34m\"afr\"\u001b[0m\u001b[0;34m,\u001b[0m\u001b[0;36m5\u001b[0m\u001b[0;34m)\u001b[0m\u001b[0;34m\u001b[0m\u001b[0;34m\u001b[0m\u001b[0m\n\u001b[0m\u001b[1;32m      4\u001b[0m     \u001b[0mtmp\u001b[0m\u001b[0;34m[\u001b[0m\u001b[0;34m'bins'\u001b[0m\u001b[0;34m]\u001b[0m \u001b[0;34m=\u001b[0m \u001b[0mint\u001b[0m\u001b[0;34m(\u001b[0m\u001b[0mi\u001b[0m\u001b[0;34m.\u001b[0m\u001b[0msplit\u001b[0m\u001b[0;34m(\u001b[0m\u001b[0;34m'/'\u001b[0m\u001b[0;34m)\u001b[0m\u001b[0;34m[\u001b[0m\u001b[0;34m-\u001b[0m\u001b[0;36m1\u001b[0m\u001b[0;34m]\u001b[0m\u001b[0;34m)\u001b[0m\u001b[0;34m\u001b[0m\u001b[0;34m\u001b[0m\u001b[0m\n\u001b[1;32m      5\u001b[0m     \u001b[0mtmp\u001b[0m\u001b[0;34m[\u001b[0m\u001b[0;34m'pop'\u001b[0m\u001b[0;34m]\u001b[0m \u001b[0;34m=\u001b[0m \u001b[0;34m'AFR'\u001b[0m\u001b[0;34m\u001b[0m\u001b[0;34m\u001b[0m\u001b[0m\n",
      "\u001b[0;32m~/mkt/201902/scripts/src/mktAnalysis.py\u001b[0m in \u001b[0;36mgrapesOutput\u001b[0;34m(path, model, population, nthreads)\u001b[0m\n\u001b[1;32m    430\u001b[0m         \u001b[0mpool\u001b[0m\u001b[0;34m.\u001b[0m\u001b[0mterminate\u001b[0m\u001b[0;34m(\u001b[0m\u001b[0;34m)\u001b[0m\u001b[0;34m\u001b[0m\u001b[0;34m\u001b[0m\u001b[0m\n\u001b[1;32m    431\u001b[0m \u001b[0;34m\u001b[0m\u001b[0m\n\u001b[0;32m--> 432\u001b[0;31m         \u001b[0mdf\u001b[0m \u001b[0;34m=\u001b[0m \u001b[0mpd\u001b[0m\u001b[0;34m.\u001b[0m\u001b[0mconcat\u001b[0m\u001b[0;34m(\u001b[0m\u001b[0mn\u001b[0m\u001b[0;34m)\u001b[0m\u001b[0;34m\u001b[0m\u001b[0;34m\u001b[0m\u001b[0m\n\u001b[0m\u001b[1;32m    433\u001b[0m \u001b[0;34m\u001b[0m\u001b[0m\n\u001b[1;32m    434\u001b[0m         \u001b[0mtmpGrapes\u001b[0m \u001b[0;34m=\u001b[0m \u001b[0mdf\u001b[0m\u001b[0;34m[\u001b[0m\u001b[0;34m(\u001b[0m\u001b[0mdf\u001b[0m\u001b[0;34m.\u001b[0m\u001b[0malpha_down\u001b[0m \u001b[0;34m<\u001b[0m \u001b[0;36m0.25\u001b[0m\u001b[0;34m)\u001b[0m \u001b[0;34m&\u001b[0m \u001b[0;34m(\u001b[0m\u001b[0mdf\u001b[0m\u001b[0;34m.\u001b[0m\u001b[0malpha_range\u001b[0m \u001b[0;34m!=\u001b[0m\u001b[0;36m0\u001b[0m\u001b[0;34m)\u001b[0m\u001b[0;34m]\u001b[0m\u001b[0;34m;\u001b[0m\u001b[0;34m\u001b[0m\u001b[0;34m\u001b[0m\u001b[0m\n",
      "\u001b[0;32m~/.conda/lib/python3.8/site-packages/pandas/core/reshape/concat.py\u001b[0m in \u001b[0;36mconcat\u001b[0;34m(objs, axis, join, ignore_index, keys, levels, names, verify_integrity, sort, copy)\u001b[0m\n\u001b[1;32m    283\u001b[0m     \u001b[0mValueError\u001b[0m\u001b[0;34m:\u001b[0m \u001b[0mIndexes\u001b[0m \u001b[0mhave\u001b[0m \u001b[0moverlapping\u001b[0m \u001b[0mvalues\u001b[0m\u001b[0;34m:\u001b[0m \u001b[0;34m[\u001b[0m\u001b[0;34m'a'\u001b[0m\u001b[0;34m]\u001b[0m\u001b[0;34m\u001b[0m\u001b[0;34m\u001b[0m\u001b[0m\n\u001b[1;32m    284\u001b[0m     \"\"\"\n\u001b[0;32m--> 285\u001b[0;31m     op = _Concatenator(\n\u001b[0m\u001b[1;32m    286\u001b[0m         \u001b[0mobjs\u001b[0m\u001b[0;34m,\u001b[0m\u001b[0;34m\u001b[0m\u001b[0;34m\u001b[0m\u001b[0m\n\u001b[1;32m    287\u001b[0m         \u001b[0maxis\u001b[0m\u001b[0;34m=\u001b[0m\u001b[0maxis\u001b[0m\u001b[0;34m,\u001b[0m\u001b[0;34m\u001b[0m\u001b[0;34m\u001b[0m\u001b[0m\n",
      "\u001b[0;32m~/.conda/lib/python3.8/site-packages/pandas/core/reshape/concat.py\u001b[0m in \u001b[0;36m__init__\u001b[0;34m(self, objs, axis, join, keys, levels, names, ignore_index, verify_integrity, copy, sort)\u001b[0m\n\u001b[1;32m    340\u001b[0m \u001b[0;34m\u001b[0m\u001b[0m\n\u001b[1;32m    341\u001b[0m         \u001b[0;32mif\u001b[0m \u001b[0mlen\u001b[0m\u001b[0;34m(\u001b[0m\u001b[0mobjs\u001b[0m\u001b[0;34m)\u001b[0m \u001b[0;34m==\u001b[0m \u001b[0;36m0\u001b[0m\u001b[0;34m:\u001b[0m\u001b[0;34m\u001b[0m\u001b[0;34m\u001b[0m\u001b[0m\n\u001b[0;32m--> 342\u001b[0;31m             \u001b[0;32mraise\u001b[0m \u001b[0mValueError\u001b[0m\u001b[0;34m(\u001b[0m\u001b[0;34m\"No objects to concatenate\"\u001b[0m\u001b[0;34m)\u001b[0m\u001b[0;34m\u001b[0m\u001b[0;34m\u001b[0m\u001b[0m\n\u001b[0m\u001b[1;32m    343\u001b[0m \u001b[0;34m\u001b[0m\u001b[0m\n\u001b[1;32m    344\u001b[0m         \u001b[0;32mif\u001b[0m \u001b[0mkeys\u001b[0m \u001b[0;32mis\u001b[0m \u001b[0;32mNone\u001b[0m\u001b[0;34m:\u001b[0m\u001b[0;34m\u001b[0m\u001b[0;34m\u001b[0m\u001b[0m\n",
      "\u001b[0;31mValueError\u001b[0m: No objects to concatenate"
     ]
    }
   ],
   "source": [
    "grapesPooledAfr = []\n",
    "for i in tqdm(np.array(glob.glob(PATH + \"/rawData/dofe/pooled/afr/*\"))):\n",
    "    tmp,tmp2,tmp3 = grapesOutput(i,\"GammaZero\",\"afr\",5)\n",
    "    tmp['bins'] = int(i.split('/')[-1])\n",
    "    tmp['pop'] = 'AFR'\n",
    "    grapesPooledAfr.append(tmp)\n",
    "grapesPooledAfr = pd.concat(grapesPooledAfr)\n",
    "grapesPooledAfr.sort_values('bins',inplace=True)"
   ]
  },
  {
   "cell_type": "code",
   "execution_count": null,
   "metadata": {
    "hidden": true
   },
   "outputs": [],
   "source": [
    "dfAfr = pd.concat([pd.melt(grapesPooledAfr,id_vars=['test','bins','pop'],value_vars='alpha'),alphasAfr])\n",
    "dfAfr.bins = dfAfr.bins.astype(str)\n",
    "dfAfr.bins = pd.Categorical(dfAfr.bins,categories=dfAfr.bins.unique())"
   ]
  },
  {
   "cell_type": "code",
   "execution_count": 56,
   "metadata": {},
   "outputs": [
    {
     "data": {
      "text/html": [
       "<div>\n",
       "<style scoped>\n",
       "    .dataframe tbody tr th:only-of-type {\n",
       "        vertical-align: middle;\n",
       "    }\n",
       "\n",
       "    .dataframe tbody tr th {\n",
       "        vertical-align: top;\n",
       "    }\n",
       "\n",
       "    .dataframe thead th {\n",
       "        text-align: right;\n",
       "    }\n",
       "</style>\n",
       "<table border=\"1\" class=\"dataframe\">\n",
       "  <thead>\n",
       "    <tr style=\"text-align: right;\">\n",
       "      <th></th>\n",
       "      <th>test</th>\n",
       "      <th>bins</th>\n",
       "      <th>value</th>\n",
       "    </tr>\n",
       "  </thead>\n",
       "  <tbody>\n",
       "    <tr>\n",
       "      <th>0</th>\n",
       "      <td>asymp1</td>\n",
       "      <td>1</td>\n",
       "      <td>NaN</td>\n",
       "    </tr>\n",
       "    <tr>\n",
       "      <th>12</th>\n",
       "      <td>asymp2</td>\n",
       "      <td>1</td>\n",
       "      <td>NaN</td>\n",
       "    </tr>\n",
       "    <tr>\n",
       "      <th>24</th>\n",
       "      <td>emkt1</td>\n",
       "      <td>1</td>\n",
       "      <td>2.277638</td>\n",
       "    </tr>\n",
       "    <tr>\n",
       "      <th>36</th>\n",
       "      <td>emkt2</td>\n",
       "      <td>1</td>\n",
       "      <td>2.412927</td>\n",
       "    </tr>\n",
       "    <tr>\n",
       "      <th>48</th>\n",
       "      <td>fww1</td>\n",
       "      <td>1</td>\n",
       "      <td>2.681727</td>\n",
       "    </tr>\n",
       "    <tr>\n",
       "      <th>60</th>\n",
       "      <td>fww2</td>\n",
       "      <td>1</td>\n",
       "      <td>2.498776</td>\n",
       "    </tr>\n",
       "    <tr>\n",
       "      <th>72</th>\n",
       "      <td>grapes</td>\n",
       "      <td>1</td>\n",
       "      <td>3.721393</td>\n",
       "    </tr>\n",
       "    <tr>\n",
       "      <th>84</th>\n",
       "      <td>imp1</td>\n",
       "      <td>1</td>\n",
       "      <td>2.681726</td>\n",
       "    </tr>\n",
       "    <tr>\n",
       "      <th>96</th>\n",
       "      <td>imp2</td>\n",
       "      <td>1</td>\n",
       "      <td>2.498759</td>\n",
       "    </tr>\n",
       "    <tr>\n",
       "      <th>108</th>\n",
       "      <td>std</td>\n",
       "      <td>1</td>\n",
       "      <td>2.989711</td>\n",
       "    </tr>\n",
       "  </tbody>\n",
       "</table>\n",
       "</div>"
      ],
      "text/plain": [
       "       test bins     value\n",
       "0    asymp1    1       NaN\n",
       "12   asymp2    1       NaN\n",
       "24    emkt1    1  2.277638\n",
       "36    emkt2    1  2.412927\n",
       "48     fww1    1  2.681727\n",
       "60     fww2    1  2.498776\n",
       "72   grapes    1  3.721393\n",
       "84     imp1    1  2.681726\n",
       "96     imp2    1  2.498759\n",
       "108     std    1  2.989711"
      ]
     },
     "execution_count": 56,
     "metadata": {},
     "output_type": "execute_result"
    }
   ],
   "source": [
    "b[b.bins=='1']"
   ]
  },
  {
   "cell_type": "code",
   "execution_count": 77,
   "metadata": {},
   "outputs": [
    {
     "data": {
      "image/png": "[encoded data removed]",
      "text/plain": [
       "<Figure size 640x480 with 1 Axes>"
      ]
     },
     "metadata": {},
     "output_type": "display_data"
    },
    {
     "data": {
      "text/plain": [
       "<ggplot: (8749341213784)>"
      ]
     },
     "execution_count": 77,
     "metadata": {},
     "output_type": "execute_result"
    }
   ],
   "source": [
    "b = dfAfr.groupby(['test','bins']).value.std().reset_index()\n",
    "\n",
    "b = b[b.test!='nan']\n",
    "ggplot(b,aes(x='bins',y='test',fill='value')) + geom_tile() "
   ]
  },
  {
   "cell_type": "code",
   "execution_count": 27,
   "metadata": {},
   "outputs": [
    {
     "ename": "NameError",
     "evalue": "name 'b' is not defined",
     "output_type": "error",
     "traceback": [
      "\u001b[0;31m---------------------------------------------------------------------------\u001b[0m",
      "\u001b[0;31mNameError\u001b[0m                                 Traceback (most recent call last)",
      "\u001b[0;32m<ipython-input-27-89e6c98d9288>\u001b[0m in \u001b[0;36m<module>\u001b[0;34m\u001b[0m\n\u001b[0;32m----> 1\u001b[0;31m \u001b[0mb\u001b[0m\u001b[0;34m\u001b[0m\u001b[0;34m\u001b[0m\u001b[0m\n\u001b[0m",
      "\u001b[0;31mNameError\u001b[0m: name 'b' is not defined"
     ]
    }
   ],
   "source": [
    "grapesCountAfr = grapesPooledAfr.groupby(['test','bins','pop']).alpha.count().reset_index()"
   ]
  },
  {
   "cell_type": "code",
   "execution_count": 14,
   "metadata": {
    "hidden": true
   },
   "outputs": [
    {
     "name": "stderr",
     "output_type": "stream",
     "text": [
      "UsageError: Cell magic `%%R` not found.\n"
     ]
    }
   ],
   "source": [
    "%%R -i binnedAfr -i dfAfr -i grapesPooledAfr -i grapesCountAfr -i PATH\n",
    "\n",
    "library(cowplot)\n",
    "\n",
    "binnedAfr = as.data.table(binnedAfr)\n",
    "grapesPooledAfr = as.data.table(grapesPooledAfr)\n",
    "grapesPooledAfr[['bins']] = as.factor(grapesPooledAfr[['bins']])\n",
    "dfAfr = as.data.table(dfAfr)\n",
    "\n",
    "\n",
    "#ci = ggplot(grapesPooledZi,aes(x = bins, y = alpha_range, fill=bins)) + geom_boxplot(show.legend=F) + labs(x = \"Bins\", y=expression(paste('CI ',alpha))) + theme_bw() + scale_fill_manual(values=c(rep(\"#e2bd9a\",length(grapesPooledZi[['bins']])))) + theme(strip.text=element_text(size=14),axis.text.x = element_text(size=12,angle=90),axis.text.y = element_text(size=12),axis.title=element_text(size=14)) + ggtitle(\"\") + geom_hline(yintercept=0.25,linetype='dashed') \n",
    "\n",
    "d = dfAfr[test == 'std' | test == 'imp2' | test == 'asymp2' | test == 'grapes']\n",
    "d$test = factor(d$test,levels=c('std','imp2','asymp2','grapes'))\n",
    "levels(d$test) = c('MKT','impMKT','aMKT','Grapes')\n",
    "\n",
    "p = ggplot(d) + geom_boxplot(aes(x = bins, y = value, fill=test),alpha=0.8,show.legend=T) + labs(x='',y=expression(alpha)) + theme_bw()  + scale_fill_manual(values=c(\"#5C8FCE\",\"#30504f\",\"#ab2710\",\"#e2bd9a\"),name = \"Test\", labels = c(\"MKT\",\"impMKT\", \"aMKT\",\"Grapes\")) + theme(strip.text=element_text(size=14),axis.text.x = element_text(size=14,angle=45,hjust=1,vjust=1),axis.title=element_text(size=14),legend.position=\"bottom\",legend.text=element_text(size=14))\n",
    "p = p + facet_wrap(~test) + ylim(-10,1)\n",
    "\n",
    "fraction_original = binnedAfr[test=='std']\n",
    "fraction_original[['TRUE']] = fraction_original[['count']]/1000\n",
    "fraction_original[['FALSE']]= 1 - fraction_original[['TRUE']]\n",
    "fraction_original = melt(fraction_original,id.vars=c('test','pop','bins'),measure.vars=c('TRUE','FALSE'))\n",
    "\n",
    "pFraction_original = ggplot(fraction_original) + geom_bar(stat=\"identity\", aes(x=as.factor(bins), y=value,fill=variable),alpha=0.8, color=\"black\") + theme_bw() + theme(strip.text=element_text(size=14),axis.text.x = element_text(size=12,angle=45,hjust=1,vjust=1),axis.text.y = element_text(size=8),axis.title=element_text(size=14),legend.position=\"top\") + xlab(\"Bins\") + ylab(\"Proportion\") + scale_fill_manual(values=c(\"#5C8FCE\",\"gray90\"),name = \"\", labels = c(\"True\", \"False\")) + scale_y_continuous(breaks=seq(0,1,0.5))\n",
    "\n",
    "fraction = binnedAfr[test=='imp2']\n",
    "fraction[['TRUE']] = fraction[['count']]/1000\n",
    "fraction[['FALSE']]= 1 - fraction[['TRUE']]\n",
    "fraction = melt(fraction,id.vars=c('test','pop','bins'),measure.vars=c('TRUE','FALSE'))\n",
    "\n",
    "pFraction = ggplot(fraction) + geom_bar(stat=\"identity\", aes(x=as.factor(bins), y=value,fill=variable),alpha=0.8, color=\"black\") + theme_bw() + theme(strip.text=element_text(size=14),axis.text.x = element_text(size=12,angle=45,hjust=1,vjust=1),axis.text.y = element_text(size=8),axis.title=element_text(size=14),legend.position=\"top\") + xlab(\"Bins\") + ylab(\"Proportion\") + scale_fill_manual(values=c(\"#30504f\",\"gray90\"),name = \"\", labels = c(\"True\", \"False\")) + scale_y_continuous(breaks=seq(0,1,0.5))\n",
    "\n",
    "fraction2 = binnedAfr[test=='asymp1']\n",
    "fraction2[['TRUE']] = fraction2[['count']]/1000\n",
    "fraction2[['FALSE']]= 1 - fraction2[['TRUE']]\n",
    "fraction2 = melt(fraction2,id.vars=c('test','pop','bins'),measure.vars=c('TRUE','FALSE'))\n",
    "\n",
    "pFraction2 = ggplot(fraction2) + geom_bar(stat=\"identity\", aes(x=as.factor(bins), y=value,fill=variable),alpha=0.8, color=\"black\") + theme_bw() + theme(strip.text=element_text(size=14),axis.text.x = element_text(size=12,angle=45,hjust=1,vjust=1),axis.text.y = element_text(size=8),axis.title=element_text(size=14),legend.position=\"top\") + xlab(\"Bins\") + ylab(\"Proportion\") + scale_fill_manual(values=c(\"#ab2710\",\"gray90\"),name = \"\", labels = c(\"True\", \"False\")) + scale_y_continuous(breaks=seq(0,1,0.5))\n",
    "\n",
    "names(grapesPooledAfr)[4] = 'count'\n",
    "\n",
    "fraction3 = grapesPooledAfr\n",
    "fraction3[['TRUE']] = fraction3[['count']]/1000\n",
    "fraction3[['FALSE']]= 1 - fraction3[['TRUE']]\n",
    "fraction3 = melt(fraction3,id.vars=c('test','pop','bins'),measure.vars=c('TRUE','FALSE'))\n",
    "\n",
    "\n",
    "pFraction3 = ggplot(fraction3) + geom_bar(stat=\"identity\", aes(x=as.factor(bins), y=value,fill=variable),alpha=0.8, color=\"black\") + theme_bw() + theme(strip.text=element_text(size=14),axis.text.x = element_text(size=12,angle=45,hjust=1,vjust=1),axis.text.y = element_text(size=8),axis.title=element_text(size=14),legend.position=\"top\") + xlab(\"Bins\") + ylab(\"Proportion\") + scale_fill_manual(values=c(\"#e2bd9a\",\"gray90\"),name = \"\", labels = c(\"True\", \"False\")) + scale_y_continuous(breaks=seq(0,1,0.5))\n",
    "\n",
    "\n",
    "tmp = plot_grid(pFraction_original,pFraction,pFraction2,pFraction3,ncol = 1,rel_heights = c(1,1,1,1),labels=c('B','C','D','E'))\n",
    "\n",
    "pgrid = plot_grid(p,tmp,ncol=2,rel_widths = c(2, 1),labels=c('A',''))\n",
    "\n",
    "ggsave(pgrid,filename=paste0(\"/home/jmurga/zi_pooled_v4.svg\"),dpi=600,width=14)\n",
    "#ggsave(pgrid,filename=paste0(PATH,\"/results/pooled/ziPooled_v3.svg\"),dpi=600,width=14)\n",
    "#ggsave(pgrid,filename=paste0(PATH,\"/results/pooled/ziPooled_v3.png\"),dpi=600,width=14)\n",
    "pgrid\n"
   ]
  },
  {
   "cell_type": "code",
   "execution_count": 1,
   "metadata": {
    "hidden": true
   },
   "outputs": [
    {
     "ename": "NameError",
     "evalue": "name 'pd' is not defined",
     "output_type": "error",
     "traceback": [
      "\u001b[0;31m---------------------------------------------------------------------------\u001b[0m",
      "\u001b[0;31mNameError\u001b[0m                                 Traceback (most recent call last)",
      "\u001b[0;32m<ipython-input-1-e676b32fcae3>\u001b[0m in \u001b[0;36m<module>\u001b[0;34m\u001b[0m\n\u001b[0;32m----> 1\u001b[0;31m \u001b[0mtmp\u001b[0m \u001b[0;34m=\u001b[0m \u001b[0mpd\u001b[0m\u001b[0;34m.\u001b[0m\u001b[0mconcat\u001b[0m\u001b[0;34m(\u001b[0m\u001b[0;34m[\u001b[0m\u001b[0mdfZi\u001b[0m\u001b[0;34m,\u001b[0m\u001b[0mdfAfr\u001b[0m\u001b[0;34m]\u001b[0m\u001b[0;34m)\u001b[0m\u001b[0;34m.\u001b[0m\u001b[0mgroupby\u001b[0m\u001b[0;34m(\u001b[0m\u001b[0;34m[\u001b[0m\u001b[0;34m'test'\u001b[0m\u001b[0;34m,\u001b[0m\u001b[0;34m'bins'\u001b[0m\u001b[0;34m,\u001b[0m\u001b[0;34m'pop'\u001b[0m\u001b[0;34m]\u001b[0m\u001b[0;34m)\u001b[0m\u001b[0;34m.\u001b[0m\u001b[0mvalue\u001b[0m\u001b[0;34m.\u001b[0m\u001b[0mdescribe\u001b[0m\u001b[0;34m(\u001b[0m\u001b[0mpercentiles\u001b[0m\u001b[0;34m=\u001b[0m\u001b[0;34m[\u001b[0m\u001b[0;36m0.05\u001b[0m\u001b[0;34m,\u001b[0m\u001b[0;36m0.5\u001b[0m\u001b[0;34m,\u001b[0m\u001b[0;36m0.95\u001b[0m\u001b[0;34m]\u001b[0m\u001b[0;34m)\u001b[0m\u001b[0;34m.\u001b[0m\u001b[0mreset_index\u001b[0m\u001b[0;34m(\u001b[0m\u001b[0;34m)\u001b[0m\u001b[0;34m;\u001b[0m\u001b[0mtmp\u001b[0m\u001b[0;34m\u001b[0m\u001b[0;34m\u001b[0m\u001b[0m\n\u001b[0m",
      "\u001b[0;31mNameError\u001b[0m: name 'pd' is not defined"
     ]
    }
   ],
   "source": [
    "tmp = pd.concat([dfZi,dfAfr]).groupby(['test','bins','pop']).value.describe(percentiles=[0.05,0.5,0.95]).reset_index();tmp"
   ]
  },
  {
   "cell_type": "code",
   "execution_count": 57,
   "metadata": {
    "hidden": true
   },
   "outputs": [],
   "source": [
    "df = tmp[(tmp.test == 'imp2') | (tmp.test == 'asymp1') | (tmp.test == 'grapes')]\n",
    "tmpCi = np.round(df[['mean']],3).astype(str).values + \" (\" + np.round(df[['5%']],3).astype(str).values + \" - \" + np.round(df[['95%']],3).astype(str) + \")\"\n",
    "dfPooled = pd.concat([df.loc[:,['test','pop','bins']],tmpCi],axis=1)\n",
    "\n",
    "dfPooled['pop'] = dfPooled['pop'].str.upper()\n",
    "\n",
    "dfPooled = pd.pivot_table(dfPooled.sort_values(['pop','test','bins']),index=['pop','test'],columns='bins',values=['95%'],aggfunc=lambda x: ' '.join(x))\n",
    "\n",
    "dfPooled.to_csv(PATH + \"/results/pooled/dfPooled.tsv\",sep='\\t',index=True)"
   ]
  },
  {
   "cell_type": "code",
   "execution_count": 86,
   "metadata": {
    "hidden": true
   },
   "outputs": [],
   "source": [
    "tmp = pd.concat([dfZi,dfAfr])\n",
    "a = tmp[(tmp.test=='imp2') | (tmp.test == 'asymp1')].groupby(['test','bins','pop']).value.describe(percentiles=[0.05,0.5,0.95]).reset_index()"
   ]
  },
  {
   "cell_type": "code",
   "execution_count": 122,
   "metadata": {
    "hidden": true
   },
   "outputs": [],
   "source": [
    "grapesPooled = pd.concat([grapesPooledZi,grapesPooledAfr])\n",
    "grapesPooled['pop'] = grapesPooled['pop'].str.upper()\n",
    "\n",
    "b = grapesPooled[(grapesPooled.alpha_range < 0.25) & (grapesPooled.alpha_range != 0)].groupby(['test','bins','pop']).alpha_range.describe(percentiles=[0.05,0.5,0.95]).reset_index()"
   ]
  },
  {
   "cell_type": "code",
   "execution_count": 123,
   "metadata": {
    "hidden": true
   },
   "outputs": [],
   "source": [
    "c = pd.concat([a,b]).sort_values(['pop'],ascending=False)\n",
    "c.bins = c.bins.astype(int)"
   ]
  },
  {
   "cell_type": "code",
   "execution_count": 142,
   "metadata": {
    "hidden": true
   },
   "outputs": [
    {
     "name": "stdout",
     "output_type": "stream",
     "text": [
      "      test bins pop count   mean   std     min     5%    50%   95%   max\n",
      " 1: asymp1    1  ZI 0.001  0.888   NaN   0.888  0.888  0.888 0.888 0.888\n",
      " 2: asymp1    2  ZI 0.003  0.876 0.017   0.864  0.865  0.868 0.894 0.896\n",
      " 3: asymp1    5  ZI 0.006  0.849 0.026   0.816  0.817  0.854 0.877 0.880\n",
      " 4: asymp1   10  ZI 0.026  0.661 0.376  -0.941  0.250  0.809 0.864 0.980\n",
      " 5: asymp1   25  ZI 0.413  0.560 0.211  -0.414  0.170  0.597 0.821 0.951\n",
      " 6: asymp1   50  ZI 0.913  0.600 0.135  -0.265  0.352  0.623 0.775 0.877\n",
      " 7: asymp1   75  ZI 0.961  0.628 0.100   0.102  0.448  0.640 0.767 0.860\n",
      " 8: asymp1  100  ZI 0.976  0.634 0.086   0.230  0.482  0.642 0.762 0.824\n",
      " 9: asymp1  250  ZI 0.995  0.645 0.055   0.459  0.544  0.649 0.729 0.779\n",
      "10: asymp1  500  ZI 1.000  0.650 0.040   0.502  0.583  0.653 0.709 0.746\n",
      "11: asymp1  750  ZI 1.000  0.654 0.033   0.538  0.595  0.658 0.703 0.732\n",
      "12: asymp1 1000  ZI 1.000  0.656 0.027   0.553  0.607  0.658 0.696 0.722\n",
      "13: grapes    1  ZI 0.006  0.202 0.046   0.115  0.134  0.216 0.238 0.239\n",
      "14: grapes    2  ZI 0.023  0.198 0.039   0.115  0.119  0.210 0.239 0.247\n",
      "15: grapes    5  ZI 0.088  0.210 0.033   0.103  0.153  0.216 0.249 0.249\n",
      "16: grapes   10  ZI 0.290  0.203 0.033   0.090  0.139  0.208 0.247 0.249\n",
      "17: grapes   25  ZI 0.951  0.178 0.035   0.082  0.121  0.178 0.235 0.249\n",
      "18: grapes   50  ZI 1.000  0.124 0.021   0.075  0.091  0.124 0.158 0.220\n",
      "19: grapes   75  ZI 1.000  0.101 0.014   0.061  0.078  0.101 0.123 0.144\n",
      "20: grapes  100  ZI 1.000  0.087 0.010   0.057  0.070  0.087 0.105 0.123\n",
      "21: grapes  250  ZI 1.000  0.055 0.004   0.044  0.048  0.055 0.062 0.070\n",
      "22: grapes  500  ZI 1.000  0.040 0.002   0.034  0.036  0.040 0.044 0.046\n",
      "23: grapes  750  ZI 1.000  0.033 0.001   0.030  0.032  0.034 0.036 0.038\n",
      "24: grapes 1000  ZI 1.000  0.030 0.001   0.028  0.028  0.030 0.032 0.034\n",
      "25:   imp2    1  ZI 0.543 -0.015 1.270 -10.667 -2.332  0.417 0.915 1.000\n",
      "26:   imp2    2  ZI 0.815  0.245 0.933 -10.429 -1.335  0.538 0.915 0.978\n",
      "27:   imp2    5  ZI 0.996  0.528 0.337  -1.750 -0.133  0.605 0.899 0.978\n",
      "28:   imp2   10  ZI 1.000  0.596 0.222  -0.686  0.176  0.639 0.874 0.976\n",
      "29:   imp2   25  ZI 1.000  0.641 0.137  -0.011  0.403  0.655 0.828 0.946\n",
      "30:   imp2   50  ZI 1.000  0.662 0.095   0.253  0.486  0.673 0.799 0.892\n",
      "31:   imp2   75  ZI 1.000  0.670 0.078   0.391  0.530  0.678 0.783 0.869\n",
      "32:   imp2  100  ZI 1.000  0.674 0.068   0.393  0.557  0.677 0.774 0.850\n",
      "33:   imp2  250  ZI 1.000  0.682 0.041   0.549  0.611  0.683 0.750 0.798\n",
      "34:   imp2  500  ZI 1.000  0.684 0.029   0.587  0.633  0.684 0.729 0.770\n",
      "35:   imp2  750  ZI 1.000  0.686 0.023   0.609  0.647  0.687 0.722 0.751\n",
      "36:   imp2 1000  ZI 1.000  0.686 0.020   0.628  0.652  0.687 0.717 0.746\n",
      "37: asymp1    1 AFR 0.000    NaN   NaN     NaN    NaN    NaN   NaN   NaN\n",
      "38: asymp1    2 AFR 0.000    NaN   NaN     NaN    NaN    NaN   NaN   NaN\n",
      "39: asymp1    5 AFR 0.000    NaN   NaN     NaN    NaN    NaN   NaN   NaN\n",
      "40: asymp1   10 AFR 0.000    NaN   NaN     NaN    NaN    NaN   NaN   NaN\n",
      "41: asymp1   25 AFR 0.000    NaN   NaN     NaN    NaN    NaN   NaN   NaN\n",
      "42: asymp1   50 AFR 0.000    NaN   NaN     NaN    NaN    NaN   NaN   NaN\n",
      "43: asymp1   75 AFR 0.006  0.167 0.272  -0.196 -0.166  0.223 0.493 0.573\n",
      "44: asymp1  100 AFR 0.022  0.053 0.246  -0.272 -0.267 -0.022 0.466 0.502\n",
      "45: asymp1  250 AFR 0.668  0.116 0.230  -1.028 -0.293  0.149 0.418 0.620\n",
      "46: asymp1  500 AFR 0.933  0.201 0.108  -0.221  0.039  0.191 0.393 0.563\n",
      "47: asymp1  750 AFR 0.982  0.196 0.089  -0.027  0.059  0.189 0.357 0.486\n",
      "48: asymp1 1000 AFR 0.993  0.195 0.076  -0.172  0.078  0.190 0.333 0.454\n",
      "49: grapes    2 AFR 0.001  0.201   NaN   0.201  0.201  0.201 0.201 0.201\n",
      "50: grapes    5 AFR 0.002  0.197 0.006   0.193  0.193  0.197 0.201 0.201\n",
      "51: grapes   10 AFR 0.006  0.207 0.032   0.182  0.182  0.192 0.249 0.249\n",
      "52: grapes   25 AFR 0.055  0.222 0.025   0.164  0.176  0.229 0.249 0.249\n",
      "53: grapes   50 AFR 0.482  0.221 0.021   0.132  0.184  0.224 0.247 0.249\n",
      "54: grapes   75 AFR 0.974  0.202 0.023   0.127  0.163  0.203 0.237 0.249\n",
      "55: grapes  100 AFR 1.000  0.176 0.019   0.111  0.144  0.176 0.206 0.230\n",
      "56: grapes  250 AFR 1.000  0.112 0.008   0.085  0.098  0.111 0.125 0.133\n",
      "57: grapes  500 AFR 1.000  0.081 0.004   0.068  0.074  0.080 0.087 0.093\n",
      "58: grapes  750 AFR 1.000  0.067 0.003   0.060  0.063  0.067 0.072 0.075\n",
      "59: grapes 1000 AFR 1.000  0.059 0.002   0.054  0.056  0.060 0.062 0.066\n",
      "60:   imp2    1 AFR 0.262 -0.694 2.499 -18.333 -5.000  0.000 0.812 0.900\n",
      "61:   imp2    2 AFR 0.535 -0.441 1.555 -13.250 -3.357  0.000 0.761 0.905\n",
      "62:   imp2    5 AFR 0.911 -0.275 1.217  -9.783 -2.529  0.083 0.741 0.923\n",
      "63:   imp2   10 AFR 0.995 -0.103 0.873  -8.143 -1.542  0.119 0.687 0.901\n",
      "64:   imp2   25 AFR 1.000  0.049 0.366  -3.056 -0.611  0.105 0.509 0.770\n",
      "65:   imp2   50 AFR 1.000  0.082 0.235  -0.822 -0.331  0.099 0.421 0.597\n",
      "66:   imp2   75 AFR 1.000  0.090 0.191  -0.860 -0.243  0.108 0.369 0.587\n",
      "67:   imp2  100 AFR 1.000  0.102 0.166  -0.712 -0.188  0.112 0.358 0.528\n",
      "68:   imp2  250 AFR 1.000  0.110 0.110  -0.223 -0.077  0.109 0.287 0.439\n",
      "69:   imp2  500 AFR 1.000  0.117 0.078  -0.143 -0.009  0.118 0.241 0.335\n",
      "70:   imp2  750 AFR 1.000  0.120 0.064  -0.090  0.019  0.119 0.225 0.300\n",
      "71:   imp2 1000 AFR 1.000  0.125 0.053  -0.043  0.037  0.126 0.207 0.274\n",
      "      test bins pop count   mean   std     min     5%    50%   95%   max\n"
     ]
    }
   ],
   "source": [
    "%%R -i c -i PATH\n",
    "\n",
    "c = as.data.table(c)\n",
    "d = c[with(c, order(-pop, test,bins)), ]\n",
    "d[,4:ncol(d)] = round(d[,4:ncol(d)],3)\n",
    "d[,4] = d[,4]/1000\n",
    "\n",
    "fwrite(d,paste0(PATH,\"/results/pooled/pooledCounts.tsv\"),sep='\\t')\n",
    "d"
   ]
  }
 ],
 "metadata": {
  "kernelspec": {
   "display_name": "Python 3",
   "language": "python",
   "name": "python3"
  },
  "language_info": {
   "codemirror_mode": {
    "name": "ipython",
    "version": 3
   },
   "file_extension": ".py",
   "mimetype": "text/x-python",
   "name": "python",
   "nbconvert_exporter": "python",
   "pygments_lexer": "ipython3",
   "version": "3.8.8"
  },
  "toc": {
   "base_numbering": 1,
   "nav_menu": {},
   "number_sections": true,
   "sideBar": true,
   "skip_h1_title": false,
   "title_cell": "Table of Contents",
   "title_sidebar": "Contents",
   "toc_cell": false,
   "toc_position": {
    "height": "calc(100% - 180px)",
    "left": "10px",
    "top": "150px",
    "width": "165px"
   },
   "toc_section_display": true,
   "toc_window_display": true
  },
  "toc-autonumbering": true,
  "varInspector": {
   "cols": {
    "lenName": 16,
    "lenType": 16,
    "lenVar": 40
   },
   "kernels_config": {
    "python": {
     "delete_cmd_postfix": "",
     "delete_cmd_prefix": "del ",
     "library": "var_list.py",
     "varRefreshCmd": "print(var_dic_list())"
    },
    "r": {
     "delete_cmd_postfix": ") ",
     "delete_cmd_prefix": "rm(",
     "library": "var_list.r",
     "varRefreshCmd": "cat(var_dic_list()) "
    }
   },
   "types_to_exclude": [
    "module",
    "function",
    "builtin_function_or_method",
    "instance",
    "_Feature"
   ],
   "window_display": false
  }
 },
 "nbformat": 4,
 "nbformat_minor": 4
}
