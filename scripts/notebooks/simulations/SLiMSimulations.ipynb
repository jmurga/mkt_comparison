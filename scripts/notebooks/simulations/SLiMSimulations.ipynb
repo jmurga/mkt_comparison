{
 "cells": [
  {
   "cell_type": "code",
   "execution_count": null,
   "metadata": {},
   "outputs": [],
   "source": [
    "import numpy as np\n",
    "import pandas as pd\n",
    "\n",
    "PATH =  \"/home/jmurga/mkt/201902\"\n",
    "import sys\n",
    "sys.path.insert(0, PATH + '/scripts/src/')\n",
    "from mktAnalysis import *"
   ]
  },
  {
   "cell_type": "markdown",
   "metadata": {
    "tags": []
   },
   "source": [
    "# Alpha scenarios\n",
    "Each scenario were simulated in HPC through HTCondor scheduler. HTCondor scripts are deposited HERE. Please check the paths before the submission."
   ]
  },
  {
   "cell_type": "code",
   "execution_count": 2,
   "metadata": {},
   "outputs": [],
   "source": [
    "PATH = \"/home/jmurga/mkt/201902/\""
   ]
  },
  {
   "cell_type": "markdown",
   "metadata": {
    "heading_collapsed": "true",
    "tags": []
   },
   "source": [
    "## Baseline simulation"
   ]
  },
  {
   "cell_type": "code",
   "execution_count": 3,
   "metadata": {
    "scrolled": false
   },
   "outputs": [
    {
     "name": "stdout",
     "output_type": "stream",
     "text": [
      "initialize() {\n",
      "\n",
      "\t/*defineConstant(\"theta\", 0.02); // 2Nes\n",
      "\tdefineConstant(\"rho\", 0.05); // 2Nes\n",
      "\tdefineConstant(\"shape\", 0.3); // 2Nes*/\n",
      "    /*to simulate N=500;alpha 0.4;gH=250;pposH = 0.00024562 Analytical.jl*/\n",
      "\t/*to simulate N=2500;alpha 0.4;gH=250;pposH=0.000191626*/\n",
      "\t/*defineConstant(\"pposH\", 0.000191626);*/\n",
      "\t/*defineConstant(\"nGenes\", 7);*/\t\n",
      "\t/*defineConstant(\"nF\", 1);*/\n",
      "\t/*defineConstant(\"fullPath\", '/home/jmurga/test');*/\n",
      "\n",
      "\tdefineConstant(\"exon\", 300);\n",
      "\tdefineConstant(\"intron\", 100);\n",
      "\tdefineConstant(\"exonNumber\", 5);\n",
      "\t\n",
      "\tdefineConstant(\"fullPath\", p);\n",
      "\t\n",
      "\t// m1 mutation type: neutral\n",
      "\tinitializeMutationType(\"m1\", 0.5, \"f\", 0.0);\n",
      "\t// m2 mutation type: deleterious\n",
      "\tinitializeMutationType(\"m2\", 0.5, \"g\", negStrength/(2*N), shape);\n",
      "\t// m3 mutation type: advantageous\n",
      "\tinitializeMutationType(\"m3\", 0.5, 'f', posStrength/(2*N));\n",
      "\t\n",
      "\t// g1 genomic element type: uses m1 for all mutations\n",
      "\tinitializeGenomicElementType(\"g1\", c(m1,m2,m3), c(0.25,0.75*(1-(pposH)), 0.75*(pposH)));\n",
      "\t\n",
      "\n",
      "\t// N genes modeled. 5 exons per gene.\n",
      "\tbase       = 0;\n",
      "\tintergenic = 8100;\n",
      "\texonL      = exon - 1;\n",
      "\tintronL    = intron- 1;\n",
      "\tfor(i in 1:nGenes){\n",
      "\t\tfor(l in 1:exonNumber){\n",
      "\t\t\tinitializeGenomicElement(g1, base, base+exonL);\n",
      "\t\t\tbase = base + exonL + intronL;\n",
      "\t\t}\n",
      "\t\tbase = base + intergenic;\n",
      "\t}\n",
      "\tinitializeGenomicElement(g1, base, base);\n",
      "\t\t\n",
      "\tinitializeRecombinationRate(rho/(4*N));\n",
      "\tinitializeMutationRate(theta/(4*N));\n",
      "\n",
      "}\n",
      "\n",
      "1 {\n",
      "\tsim.addSubpop(\"p1\", N);\n",
      "}\n",
      "\n",
      "220000 late() {\n",
      "\t\n",
      "\t// Sample individuals\n",
      "\tsampledIndividuals = p1.sampleIndividuals(20).genomes;  \n",
      "\t//sampledIndividuals.outputMS(\"/home/jmurga/ms.txt\");\n",
      "\t//m1muts = sim.mutationsOfType(m1);\n",
      "\t//m1_in_p2 = (sim.mutationCounts(sampledIndividuals, m1muts) > 0);\n",
      "\n",
      "\t// Segregating sites within the sample. \n",
      "\tm = unique(sampledIndividuals.mutations);\n",
      "\n",
      "\tm0 = unique(sampledIndividuals.mutationsOfType(m1));\n",
      "\tmf2 = unique(sampledIndividuals.mutationsOfType(m2));\n",
      "\tmf3 = unique(sampledIndividuals.mutationsOfType(m3));\n",
      "\tmi  = c(mf2,mf3);\n",
      "\n",
      "\tbn = 39;\n",
      "\tif( sum(m0.size()) == 0){\n",
      "\t\tp0 = rep(0,bn);\n",
      "\t}else{\n",
      "\t\t// Get frequencies and cleaning fixed within sample\n",
      "\t\tf0 = sapply(m0, \"mean(sampledIndividuals.containsMutations(applyValue));\");\n",
      "\t\tp0  = sapply(0:(bn), \" sum((f0 >= applyValue / (bn)) & (f0 < (applyValue + 1) / (bn))); \");\n",
      "\t}\n",
      "\t\n",
      "\tif(sum(mi.size()) == 0){\n",
      "\t\tpi = rep(0,bn);\n",
      "\t}else{\n",
      "\t\tfi = sapply(mi, \"mean(sampledIndividuals.containsMutations(applyValue));\");             \n",
      "\t\t//  Make binned SFS\n",
      "\t\tpi  = sapply(0:(bn), \" sum((fi >= applyValue / (bn)) & (fi < (applyValue + 1) / (bn))); \");\n",
      "\t}\n",
      "\n",
      "\n",
      "\t// Get substitution info\n",
      "\tsubs = sim.substitutions;\n",
      "\tsubs[subs.fixationGeneration > (34*N)];\n",
      "\n",
      "\tm1Subs = subs[subs.mutationType == m1];\n",
      "\tm2Subs = subs[subs.mutationType == m2];\n",
      "\tm3Subs = subs[subs.mutationType == m3];\n",
      "\n",
      "\ttrueAlpha = m3Subs.size() / (m2Subs.size() + m3Subs.size());\n",
      "\n",
      "\td0 = m1Subs.size();\n",
      "\tdi = m2Subs.size() + m3Subs.size();\n",
      "\tds = m3Subs.size();\n",
      "\t\n",
      "\tf = (1:(bn)) / (bn);\n",
      "\tline = \"daf\\tpi\\tp0\";\n",
      "\twriteFile( fullPath + \"/daf/daf\" + nF +  \".tsv.gz\", line, compress=T);\n",
      "\tfor (i in 0:(bn-1)){\n",
      "\t\tline = f[i] + \"\\t\" + pi[i] + \"\\t\" + p0[i];\n",
      "\t\t\twriteFile(fullPath + \"/daf/daf\" + nF +  \".tsv.gz\", line,append=T, compress=T);\n",
      "\t}\n",
      "\n",
      "\tline  = \"di\\td0\\tds\";\n",
      "\twriteFile(fullPath + \"/div/div\" + nF +  \".tsv.gz\", line, compress=T); \n",
      "\tline  = di + \"\\t\" + d0 + \"\\t\" + ds;\n",
      "\twriteFile(fullPath + \"/div/div\" + nF +  \".tsv.gz\", line,append=T ,compress=T);\n",
      "}\n",
      "\n"
     ]
    }
   ],
   "source": [
    "!cat $PATH/scripts/slimRecipes/mktComparision.slim"
   ]
  },
  {
   "cell_type": "markdown",
   "metadata": {},
   "source": [
    "HTCondor submission"
   ]
  },
  {
   "cell_type": "raw",
   "metadata": {},
   "source": [
    "executable=/data/bioinfo/software/SLiM/build/slim\n",
    "args=-d N=1000 -d negStrength=-2000 -d posStrength=250 -d shape=0.3 -d rho=0.001 -d theta=0.001 -d pposH=0.000213339 -d nGenes=7 -d nF=$(Item) -d p=\\\"/nfs/pic.es/user/j/jmurgamo/simulations/mktComparison/base\\\" /nfs/pic.es/user/j/jmurgamo/src/recipes/mktComparision.slim\n",
    "error = err/err.$(Item)\n",
    "log = log/log.$(Item)\n",
    "\n",
    "queue from seq 1 2000 |"
   ]
  },
  {
   "cell_type": "markdown",
   "metadata": {
    "heading_collapsed": "true",
    "tags": []
   },
   "source": [
    "## $\\rho = 0.01$"
   ]
  },
  {
   "cell_type": "raw",
   "metadata": {
    "ExecuteTime": {
     "end_time": "2019-02-15T17:36:14.423813Z",
     "start_time": "2019-02-15T17:36:08.351540Z"
    },
    "code_folding": []
   },
   "source": [
    "executable=/data/bioinfo/software/SLiM/build/slim\n",
    "args=-d negStrength=-2000 -d posStrength=250 -d shape=0.3 -d rho=0.01 -d theta=0.001 -d pposH=0.000213339 -d nGenes=7 -d nF=$(Item) -d p=\\\"/nfs/pic.es/user/j/jmurgamo/simulations/mktComparison/rho_0.01\\\" /nfs/pic.es/user/j/jmurgamo/src/recipes/mktComparision.slim\n",
    "error = err/err.$(Item)\n",
    "log = log/log.$(Item)\n",
    "\n",
    "queue from seq 1 2000 |"
   ]
  },
  {
   "cell_type": "markdown",
   "metadata": {
    "heading_collapsed": "true",
    "tags": []
   },
   "source": [
    "## $\\rho = 0.0001$"
   ]
  },
  {
   "cell_type": "raw",
   "metadata": {},
   "source": [
    "executable=/data/bioinfo/software/SLiM/build/slim\n",
    "args=-d negStrength=-2000 -d posStrength=250 -d shape=0.3 -d rho=0.0001 -d theta=0.001 -d pposH=0.000213339 -d nGenes=7 -d nF=$(Item) -d p=\\\"/nfs/pic.es/user/j/jmurgamo/simulations/mktComparison/rho_0.0001\\\" /nfs/pic.es/user/j/jmurgamo/src/recipes/mktComparision.slim\n",
    "error = err/err.$(Item)\n",
    "log = log/log.$(Item)\n",
    "\n",
    "queue from seq 1 2000 |"
   ]
  },
  {
   "cell_type": "markdown",
   "metadata": {
    "tags": []
   },
   "source": [
    "## $\\theta = 0.01$"
   ]
  },
  {
   "cell_type": "raw",
   "metadata": {},
   "source": [
    "executable=/data/bioinfo/software/SLiM/build/slim\n",
    "args=-d negStrength=-2000 -d posStrength=250 -d shape=0.3 -d rho=0.001 -d theta=0.01 -d pposH=0.000213339 -d nGenes=7 -d nF=$(Item) -d p=\\\"/nfs/pic.es/user/j/jmurgamo/simulations/mktComparison/theta_0.01\\\" /nfs/pic.es/user/j/jmurgamo/src/recipes/mktComparision.slim\n",
    "error = err/err.$(Item)\n",
    "log = log/log.$(Item)\n",
    "\n",
    "queue from seq 1 2000 |"
   ]
  },
  {
   "cell_type": "markdown",
   "metadata": {
    "heading_collapsed": "true",
    "tags": []
   },
   "source": [
    "## $\\theta = 0.0001$"
   ]
  },
  {
   "cell_type": "raw",
   "metadata": {},
   "source": [
    "executable=/data/bioinfo/software/SLiM/build/slim\n",
    "args=-d negStrength=-2000 -d posStrength=250 -d shape=0.3 -d rho=0.001 -d theta=0.0001 -d pposH=0.000213339 -d nGenes=7 -d nF=$(Item) -d p=\\\"/nfs/pic.es/user/j/jmurgamo/simulations/mktComparison/theta_0.0001\\\" /nfs/pic.es/user/j/jmurgamo/src/recipes/mktComparision.slim\n",
    "error = err/err.$(Item)\n",
    "log = log/log.$(Item)\n",
    "\n",
    "queue from seq 1 2000 |"
   ]
  },
  {
   "cell_type": "markdown",
   "metadata": {
    "heading_collapsed": "true",
    "tags": []
   },
   "source": [
    "## 28k genes"
   ]
  },
  {
   "cell_type": "raw",
   "metadata": {},
   "source": [
    "qexecutable=/data/bioinfo/software/SLiM/build/slim\n",
    "args=-d negStrength=-2000 -d posStrength=250 -d shape=0.3 -d rho=0.001 -d theta=0.001 -d pposH=0.000213339 -d nGenes=14 -d nF=$(Item) -d p=\\\"/nfs/pic.es/user/j/jmurgamo/simulations/mktComparison/genes_14k\\\" /nfs/pic.es/user/j/jmurgamo/src/recipes/mktComparision.slim\n",
    "error = err/err.$(Item)\n",
    "log = log/log.$(Item)\n",
    "\n",
    "queue from seq 1 2000 |"
   ]
  },
  {
   "cell_type": "markdown",
   "metadata": {
    "heading_collapsed": "true",
    "tags": []
   },
   "source": [
    "## 6000k genes"
   ]
  },
  {
   "cell_type": "raw",
   "metadata": {},
   "source": [
    "executable=/data/bioinfo/software/SLiM/build/slim\n",
    "args=-d negStrength=-2000 -d posStrength=250 -d shape=0.3 -d rho=0.001 -d theta=0.001 -d pposH=0.000213339 -d nGenes=3 -d nF=$(Item) -d p=\\\"/nfs/pic.es/user/j/jmurgamo/simulations/mktComparison/genes_6k\\\" /nfs/pic.es/user/j/jmurgamo/src/recipes/mktComparision.slim\n",
    "error = err/err.$(Item)\n",
    "log = log/log.$(Item)\n",
    "\n",
    "queue from seq 1 2000 |"
   ]
  },
  {
   "cell_type": "markdown",
   "metadata": {
    "heading_collapsed": "true",
    "tags": []
   },
   "source": [
    "## $P(fixation) = 0.000746621$"
   ]
  },
  {
   "cell_type": "raw",
   "metadata": {},
   "source": [
    "executable=/data/bioinfo/software/SLiM/build/slim\n",
    "args=-d negStrength=-2000 -d posStrength=250 -d shape=0.3 -d rho=0.001 -d theta=0.001 -d pposH=0.000746621 -d nGenes=7 -d nF=$(Item) -d p=\\\"/nfs/pic.es/user/j/jmurgamo/simulations/mktComparison/pb_1\\\" /nfs/pic.es/user/j/jmurgamo/src/recipes/mktComparision.slim\n",
    "error = err/err.$(Item)\n",
    "log = log/log.$(Item)\n",
    "\n",
    "queue from seq 1 2000 |"
   ]
  },
  {
   "cell_type": "markdown",
   "metadata": {
    "heading_collapsed": "true",
    "tags": []
   },
   "source": [
    "## $P(fixation) = 3.5566e-5$"
   ]
  },
  {
   "cell_type": "raw",
   "metadata": {},
   "source": [
    "executable=/data/bioinfo/software/SLiM/build/slim\n",
    "args=-d N=1000 -d negStrength=-2000 -d posStrength=250 -d shape=0.3 -d rho=0.001 -d theta=0.001 -d pposH=3.5566e-5 -d nGenes=7 -d nF=$(Item) -d p=\\\"/nfs/pic.es/user/j/jmurgamo/simulations/mktComparison/pb_2\\\" /nfs/pic.es/user/j/jmurgamo/src/recipes/mktComparision.slim\n",
    "error = err/err.$(Item)\n",
    "log = log/log.$(Item)\n",
    "\n",
    "queue from seq 1 2000 |"
   ]
  },
  {
   "cell_type": "markdown",
   "metadata": {
    "heading_collapsed": "true",
    "tags": []
   },
   "source": [
    "## $2Nes_{+} = 500$"
   ]
  },
  {
   "cell_type": "raw",
   "metadata": {},
   "source": [
    "executable=/data/bioinfo/software/SLiM/build/slim\n",
    "args=-d negStrength=-2000 -d posStrength=500 -d shape=0.3 -d rho=0.001 -d theta=0.001 -d pposH=0.000213339 -d nGenes=7 -d nF=$(Item) -d p=\\\"/nfs/pic.es/user/j/jmurgamo/simulations/mktComparison/2nes_pos_500\\\" /nfs/pic.es/user/j/jmurgamo/src/recipes/mktComparision.slim\n",
    "error = err/err.$(Item)\n",
    "log = log/log.$(Item)\n",
    "\n",
    "queue from seq 1 2000 |"
   ]
  },
  {
   "cell_type": "markdown",
   "metadata": {
    "heading_collapsed": "true",
    "tags": []
   },
   "source": [
    "## $2Nes_{+} = 100$"
   ]
  },
  {
   "cell_type": "raw",
   "metadata": {},
   "source": [
    "executable=/data/bioinfo/software/SLiM/build/slim\n",
    "args=-d N=1000 -d negStrength=-2000 -d posStrength=100 -d shape=0.3 -d rho=0.001 -d theta=0.001 -d pposH=0.000213339 -d nGenes=7 -d nF=$(Item) -d p=\\\"/nfs/pic.es/user/j/jmurgamo/simulations/mktComparison/2nes_pos_100\\\" /nfs/pic.es/user/j/jmurgamo/src/recipes/mktComparision.slim\n",
    "error = err/err.$(Item)\n",
    "log = log/log.$(Item)\n",
    "\n",
    "queue from seq 1 2000 |"
   ]
  },
  {
   "cell_type": "markdown",
   "metadata": {
    "heading_collapsed": "true",
    "tags": []
   },
   "source": [
    "## $2Nes_{-} = -1000$"
   ]
  },
  {
   "cell_type": "raw",
   "metadata": {},
   "source": [
    "executable=/data/bioinfo/software/SLiM/build/slim\n",
    "args=-d negStrength=-1000 -d posStrength=250 -d shape=0.3 -d rho=0.001 -d theta=0.001 -d pposH=0.000213339 -d nGenes=7 -d nF=$(Item) -d p=\\\"/nfs/pic.es/user/j/jmurgamo/simulations/mktComparison/2nes_neg_1000\\\" /nfs/pic.es/user/j/jmurgamo/src/recipes/mktComparision.slim\n",
    "error = err/err.$(Item)\n",
    "log = log/log.$(Item)\n",
    "\n",
    "queue from seq 1 2000 |"
   ]
  },
  {
   "cell_type": "markdown",
   "metadata": {
    "heading_collapsed": "true",
    "tags": []
   },
   "source": [
    "## $2Nes_{-} = -500$"
   ]
  },
  {
   "cell_type": "raw",
   "metadata": {},
   "source": [
    "executable=/data/bioinfo/software/SLiM/build/slim\n",
    "args=-d negStrength=-500 -d posStrength=250 -d shape=0.3 -d rho=0.001 -d theta=0.001 -d pposH=0.000213339 -d nGenes=7 -d nF=$(Item) -d p=\\\"/nfs/pic.es/user/j/jmurgamo/simulations/mktComparison/2nes_neg_500\\\" /nfs/pic.es/user/j/jmurgamo/src/recipes/mktComparision.slim\n",
    "error = err/err.$(Item)\n",
    "log = log/log.$(Item)\n",
    "\n",
    "queue from seq 1 2000 |"
   ]
  },
  {
   "cell_type": "markdown",
   "metadata": {
    "tags": []
   },
   "source": [
    "## $\\beta = 0.1$"
   ]
  },
  {
   "cell_type": "raw",
   "metadata": {},
   "source": [
    "executable=/data/bioinfo/software/SLiM/build/slim\n",
    "args=-d negStrength=-2000 -d posStrength=250 -d shape=0.1 -d rho=0.001 -d theta=0.001 -d pposH=0.000213339 -d nGenes=7 -d nF=$(Item) -d p=\\\"/nfs/pic.es/user/j/jmurgamo/simulations/mktComparison/shape_0.1\\\" /nfs/pic.es/user/j/jmurgamo/src/recipes/mktComparision.slim\n",
    "error = err/err.$(Item)\n",
    "log = log/log.$(Item)\n",
    "\n",
    "queue from seq 1 2000 |"
   ]
  },
  {
   "cell_type": "markdown",
   "metadata": {
    "heading_collapsed": "true",
    "tags": []
   },
   "source": [
    "## $\\beta = 0.2$"
   ]
  },
  {
   "cell_type": "raw",
   "metadata": {},
   "source": [
    "executable=/data/bioinfo/software/SLiM/build/slim\n",
    "args=-d negStrength=-2000 -d posStrength=250 -d shape=0.2 -d rho=0.001 -d theta=0.001 -d pposH=0.000213339 -d nGenes=7 -d nF=$(Item) -d p=\\\"/nfs/pic.es/user/j/jmurgamo/simulations/mktComparison/shape_0.2\\\" /nfs/pic.es/user/j/jmurgamo/src/recipes/mktComparision.slim\n",
    "error = err/err.$(Item)\n",
    "log = log/log.$(Item)\n",
    "\n",
    "queue from seq 1 2000 |"
   ]
  }
 ],
 "metadata": {
  "hide_input": false,
  "kernelspec": {
   "display_name": "Python 3",
   "language": "python",
   "name": "python3"
  },
  "language_info": {
   "codemirror_mode": {
    "name": "ipython",
    "version": 3
   },
   "file_extension": ".py",
   "mimetype": "text/x-python",
   "name": "python",
   "nbconvert_exporter": "python",
   "pygments_lexer": "ipython3",
   "version": "3.8.8"
  },
  "toc": {
   "base_numbering": 1,
   "nav_menu": {},
   "number_sections": true,
   "sideBar": true,
   "skip_h1_title": false,
   "title_cell": "Table of Contents",
   "title_sidebar": "Contents",
   "toc_cell": false,
   "toc_position": {},
   "toc_section_display": true,
   "toc_window_display": false
  },
  "varInspector": {
   "cols": {
    "lenName": 16,
    "lenType": 16,
    "lenVar": 40
   },
   "kernels_config": {
    "python": {
     "delete_cmd_postfix": "",
     "delete_cmd_prefix": "del ",
     "library": "var_list.py",
     "varRefreshCmd": "print(var_dic_list())"
    },
    "r": {
     "delete_cmd_postfix": ") ",
     "delete_cmd_prefix": "rm(",
     "library": "var_list.r",
     "varRefreshCmd": "cat(var_dic_list()) "
    }
   },
   "position": {
    "height": "410px",
    "left": "708px",
    "right": "49px",
    "top": "124px",
    "width": "523px"
   },
   "types_to_exclude": [
    "module",
    "function",
    "builtin_function_or_method",
    "instance",
    "_Feature"
   ],
   "window_display": false
  }
 },
 "nbformat": 4,
 "nbformat_minor": 4
}
