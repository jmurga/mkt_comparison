{
 "cells": [
  {
   "cell_type": "code",
   "execution_count": 2,
   "metadata": {
    "ExecuteTime": {
     "end_time": "2022-02-21T10:21:07.949228Z",
     "start_time": "2022-02-21T10:21:07.470726Z"
    }
   },
   "outputs": [],
   "source": [
    "import numpy as np\n",
    "import pandas as pd\n",
    "\n",
    "PATH =  \"/home/jmurga/mkt/201902\"\n",
    "import sys\n",
    "sys.path.insert(0, PATH + '/scripts/src/')\n",
    "from analytical import *"
   ]
  },
  {
   "cell_type": "code",
   "execution_count": 3,
   "metadata": {
    "ExecuteTime": {
     "end_time": "2022-02-21T10:21:08.010544Z",
     "start_time": "2022-02-21T10:21:08.003490Z"
    }
   },
   "outputs": [],
   "source": [
    "PATH = \"/home/jmurga/mkt/201902/\""
   ]
  },
  {
   "cell_type": "markdown",
   "metadata": {
    "tags": []
   },
   "source": [
    "Recipe simulation"
   ]
  },
  {
   "cell_type": "code",
   "execution_count": 18,
   "metadata": {
    "ExecuteTime": {
     "end_time": "2022-02-21T12:14:25.523410Z",
     "start_time": "2022-02-21T12:14:25.391211Z"
    },
    "scrolled": false
   },
   "outputs": [
    {
     "name": "stdout",
     "output_type": "stream",
     "text": [
      "initialize() {\r\n",
      "\r\n",
      "\t/*defineConstant(\"theta\", 0.02); // 2Nes\r\n",
      "\tdefineConstant(\"rho\", 0.05); // 2Nes\r\n",
      "\tdefineConstant(\"shape\", 0.3); // 2Nes*/\r\n",
      "    /*to simulate N=500;alpha 0.4;gH=250;pposH = 0.00024562 Analytical.jl*/\r\n",
      "\t/*to simulate N=2500;alpha 0.4;gH=250;pposH=0.000191626*/\r\n",
      "\t/*defineConstant(\"pposH\", 0.000191626);*/\r\n",
      "\t/*defineConstant(\"nGenes\", 7);*/\t\r\n",
      "\t/*defineConstant(\"nF\", 1);*/\r\n",
      "\t/*defineConstant(\"p\", '/home/jmurga/test');*/\r\n",
      "\r\n",
      "\tdefineConstant(\"exon\", 300);\r\n",
      "\tdefineConstant(\"intron\", 100);\r\n",
      "\tdefineConstant(\"exonNumber\", 5);\r\n",
      "\t\r\n",
      "\t// m1 mutation type: neutral\r\n",
      "\tinitializeMutationType(\"m1\", 0.5, \"f\", 0.0);\r\n",
      "\t// m2 mutation type: deleterious\r\n",
      "\tinitializeMutationType(\"m2\", 0.5, \"g\", negStrength/(2*N), shape);\r\n",
      "\t// m3 mutation type: advantageous\r\n",
      "\tinitializeMutationType(\"m3\", 0.5, 'f', posStrength/(2*N));\r\n",
      "\t// g1 genomic element type: uses m1 for all mutations\r\n",
      "\tinitializeGenomicElementType(\"g1\", c(m1,m2,m3), c(0.25,0.75*(1-(pposH)), 0.75*(pposH)));\r\n",
      "\t\r\n",
      "\r\n",
      "\t// N genes modeled. 5 exons per gene.\r\n",
      "\tbase       = 0;\r\n",
      "\tintergenic = 8100;\r\n",
      "\texonL      = exon - 1;\r\n",
      "\tintronL    = intron- 1;\r\n",
      "\tfor(i in 1:nGenes){\r\n",
      "\t\tfor(l in 1:exonNumber){\r\n",
      "\t\t\tinitializeGenomicElement(g1, base, base+exonL);\r\n",
      "\t\t\tbase = base + exonL + intronL;\r\n",
      "\t\t}\r\n",
      "\t\tbase = base + intergenic;\r\n",
      "\t}\r\n",
      "\tinitializeGenomicElement(g1, base, base);\r\n",
      "\t\t\r\n",
      "\tinitializeRecombinationRate(rho/(4*N));\r\n",
      "\tinitializeMutationRate(theta/(4*N));\r\n",
      "\r\n",
      "}\r\n",
      "\r\n",
      "1 {\r\n",
      "\tsim.addSubpop(\"p1\", N);\r\n",
      "}\r\n",
      "\r\n",
      "22000 late() {\r\n",
      "\t\r\n",
      "\t// Sample individuals\r\n",
      "\tsampledIndividuals = p1.sampleIndividuals(20).genomes;  \r\n",
      "\t//sampledIndividuals.outputMS(\"/home/jmurga/ms.txt\");\r\n",
      "\t//m1muts = sim.mutationsOfType(m1);\r\n",
      "\t//m1_in_p2 = (sim.mutationCounts(sampledIndividuals, m1muts) > 0);\r\n",
      "\r\n",
      "\t// Segregating sites within the sample. \r\n",
      "\tm = unique(sampledIndividuals.mutations);\r\n",
      "\r\n",
      "\tm0 = unique(sampledIndividuals.mutationsOfType(m1));\r\n",
      "\tmf2 = unique(sampledIndividuals.mutationsOfType(m2));\r\n",
      "\tmf3 = unique(sampledIndividuals.mutationsOfType(m3));\r\n",
      "\tmi  = c(mf2,mf3);\r\n",
      "\r\n",
      "\tbn = 39;\r\n",
      "\tif( sum(m0.size()) == 0){\r\n",
      "\t\tp0 = rep(0,bn);\r\n",
      "\t}else{\r\n",
      "\t\t// Get frequencies and cleaning fixed within sample\r\n",
      "\t\tf0 = sapply(m0, \"mean(sampledIndividuals.containsMutations(applyValue));\");\r\n",
      "\t\tp0  = sapply(0:(bn), \" sum((f0 >= applyValue / (bn)) & (f0 < (applyValue + 1) / (bn))); \");\r\n",
      "\t}\r\n",
      "\t\r\n",
      "\tif(sum(mi.size()) == 0){\r\n",
      "\t\tpi = rep(0,bn);\r\n",
      "\t}else{\r\n",
      "\t\tfi = sapply(mi, \"mean(sampledIndividuals.containsMutations(applyValue));\");             \r\n",
      "\t\t//  Make binned SFS\r\n",
      "\t\tpi  = sapply(0:(bn), \" sum((fi >= applyValue / (bn)) & (fi < (applyValue + 1) / (bn))); \");\r\n",
      "\t}\r\n",
      "\r\n",
      "\r\n",
      "\t// Get substitution info\r\n",
      "\tsubs = sim.substitutions;\r\n",
      "\tsubs[subs.fixationGeneration > (34*N)];\r\n",
      "\r\n",
      "\tm1Subs = subs[subs.mutationType == m1];\r\n",
      "\tm2Subs = subs[subs.mutationType == m2];\r\n",
      "\tm3Subs = subs[subs.mutationType == m3];\r\n",
      "\r\n",
      "\ttrueAlpha = m3Subs.size() / (m2Subs.size() + m3Subs.size());\r\n",
      "\r\n",
      "\td0 = m1Subs.size();\r\n",
      "\tdi = m2Subs.size() + m3Subs.size();\r\n",
      "\tds = m3Subs.size();\r\n",
      "\t\r\n",
      "\tf = (1:(bn)) / (bn);\r\n",
      "\tline = \"daf\\tpi\\tp0\";\r\n",
      "\twriteFile( p + \"/daf/daf\" + nF +  \".tsv.gz\", line, compress=T);\r\n",
      "\tfor (i in 0:(bn-1)){\r\n",
      "\t\tline = f[i] + \"\\t\" + pi[i] + \"\\t\" + p0[i];\r\n",
      "\t\t\twriteFile(p + \"/daf/daf\" + nF +  \".tsv.gz\", line,append=T, compress=T);\r\n",
      "\t}\r\n",
      "\r\n",
      "\tline  = \"di\\td0\\tds\";\r\n",
      "\twriteFile(p + \"/div/div\" + nF +  \".tsv.gz\", line, compress=T); \r\n",
      "\tline  = di + \"\\t\" + d0 + \"\\t\" + ds;\r\n",
      "\twriteFile(p + \"/div/div\" + nF +  \".tsv.gz\", line,append=T ,compress=T);\r\n",
      "}\r\n",
      "\r\n"
     ]
    }
   ],
   "source": [
    "!cat $PATH/scripts/slim_recipes/mkt_comparision.slim"
   ]
  },
  {
   "cell_type": "markdown",
   "metadata": {},
   "source": [
    "We run the simulation using GNU parallel. Check the file ```../src/run_sim.sh``` to check all the cases. Here we provided an example of the baseline simulation. Each command inside ```../src/run_sim.sh``` will modify one paremeter at a time to test the variable effect on $\\alpha$ estimation. We tested the following conditions:\n",
    " - rho = [0.001,0.01]\n",
    " - theta = [0.001,0.01]\n",
    " - Number of genes = [2000,28000]\n",
    " - Probability of fixation for selected mutations = [0.000746621,3.5566e-5] ($\\alpha = 0.7$ and $\\alpha = 0.1$)\n",
    " - 2Nes - = [-1000,-500]\n",
    " - 2Nes + = [100,500]\n",
    " - $\\beta$ = [0.1,0.2]"
   ]
  },
  {
   "cell_type": "markdown",
   "metadata": {},
   "source": [
    "```bash \n",
    "parallel -j 20 -u \"slim -d N=1000 -d negStrength=-2000 -d posStrength=250 -d shape=0.3 -d rho=0.001 -d theta=0.01 -d pposH=0.000213339 -d nGenes=7 -d nF={} -d p=\\'/home/jmurga/test/simulations/impMK/theta_0.01\\' /home/jmurga/test/simulations/impMK/mktComparison.slim\" ::: `seq 1 2000`\n",
    "```"
   ]
  },
  {
   "cell_type": "markdown",
   "metadata": {},
   "source": [
    "We solved the fixation probabilities using a simplified version of [mktest](https://github.com/uricchio/mktest) from [Uricchio et al. 2019](https://www.nature.com/articles/s41559-019-0890-6) whithout BGS nor weak adaptation."
   ]
  },
  {
   "cell_type": "code",
   "execution_count": 11,
   "metadata": {
    "ExecuteTime": {
     "end_time": "2022-02-17T14:38:13.899891Z",
     "start_time": "2022-02-17T14:38:13.486239Z"
    }
   },
   "outputs": [
    {
     "name": "stdout",
     "output_type": "stream",
     "text": [
      "α = 0.1, fixation probility = 3.556845591841181e-05\n",
      "α = 0.4, fixation probility = 0.0002133917604722278\n",
      "α = 0.7, fixation probility = 0.0007466719945885354\n"
     ]
    }
   ],
   "source": [
    "for a in np.array([0.1,0.4,0.7]):\n",
    "    adap = Analytical(N=1000,gam_neg=-2000,gH=250,al=0.3,be=0.3/2000,alLow=0.0,alTot=a,B=0.999)\n",
    "    B = adap.B\n",
    "    adap.set_theta_f()\n",
    "    theta_f = adap.theta_f\n",
    "    adap.B = 0.999\n",
    "    ## Solve the mutation rate\n",
    "    adap.set_theta_f()\n",
    "    ## Solve the probabilities\n",
    "    adap.setPpos()\n",
    "    print('α = {}, fixation probility = {}'.format(a,adap.pposH))"
   ]
  },
  {
   "cell_type": "markdown",
   "metadata": {},
   "source": [
    "In addition we run the baseline simulation accouting for BGS and weak adaptation"
   ]
  },
  {
   "cell_type": "code",
   "execution_count": 10,
   "metadata": {
    "ExecuteTime": {
     "end_time": "2022-02-21T10:57:18.719967Z",
     "start_time": "2022-02-21T10:57:18.394773Z"
    }
   },
   "outputs": [
    {
     "name": "stdout",
     "output_type": "stream",
     "text": [
      "α = 0.4, strongy selected alelles = 0.000093, weakly selected alelles = 0.006904, B = 0.999, μ = 7.503752501876845e-10\n"
     ]
    }
   ],
   "source": [
    "adap = Analytical(N=1000,gam_neg=-500,gH=500,gL=5,al=0.3,be=0.3/500,alLow=0.2,alTot=0.4,B=0.999,Lf=1e5)\n",
    "B = adap.B\n",
    "adap.set_theta_f()\n",
    "theta_f = adap.theta_f\n",
    "adap.B = 0.999\n",
    "## Solve the mutation rate\n",
    "adap.set_theta_f()\n",
    "## Solve the probabilities with no BGS\n",
    "adap.setPpos()\n",
    "# Return to the original values\n",
    "adap.theta_f = theta_f\n",
    "adap.B = B\n",
    "\n",
    "print('α = {}, strongy selected alelles = {:.6f}, weakly selected alelles = {:.6f}, B = {}, μ = {}'.format(adap.alTot,adap.pposH,adap.pposL,adap.B,theta_f/(4*adap.N)))"
   ]
  },
  {
   "cell_type": "code",
   "execution_count": 17,
   "metadata": {
    "ExecuteTime": {
     "end_time": "2022-02-21T11:08:16.097403Z",
     "start_time": "2022-02-21T11:08:15.779552Z"
    }
   },
   "outputs": [
    {
     "name": "stdout",
     "output_type": "stream",
     "text": [
      "α = 0.4, strongy selected alelles = 0.000118, weakly selected alelles = 0.006922, B = 0.4, μ = 1.3744360978112326e-06\n"
     ]
    }
   ],
   "source": [
    "adap = Analytical(N=500,gam_neg=-500,gH=500,gL=5,al=0.3,be=0.3/500,alLow=0.2,alTot=0.4,B=0.4,Lf=1e5)\n",
    "B = adap.B\n",
    "adap.set_theta_f()\n",
    "theta_f = adap.theta_f\n",
    "adap.B = 0.999\n",
    "## Solve the mutation rate\n",
    "adap.set_theta_f()\n",
    "## Solve the probabilities with no BGS\n",
    "adap.setPpos()\n",
    "# Return to the original values\n",
    "adap.theta_f = theta_f\n",
    "adap.B = B\n",
    "\n",
    "print('α = {}, strongy selected alelles = {:.6f}, weakly selected alelles = {:.6f}, B = {}, μ = {}'.format(adap.alTot,adap.pposH,adap.pposL,adap.B,theta_f/(4*adap.N)))"
   ]
  }
 ],
 "metadata": {
  "hide_input": false,
  "kernelspec": {
   "display_name": "Python 3 (ipykernel)",
   "language": "python",
   "name": "python3"
  },
  "language_info": {
   "codemirror_mode": {
    "name": "ipython",
    "version": 3
   },
   "file_extension": ".py",
   "mimetype": "text/x-python",
   "name": "python",
   "nbconvert_exporter": "python",
   "pygments_lexer": "ipython3",
   "version": "3.9.7"
  },
  "toc": {
   "base_numbering": 1,
   "nav_menu": {},
   "number_sections": true,
   "sideBar": true,
   "skip_h1_title": false,
   "title_cell": "Table of Contents",
   "title_sidebar": "Contents",
   "toc_cell": false,
   "toc_position": {},
   "toc_section_display": true,
   "toc_window_display": false
  },
  "varInspector": {
   "cols": {
    "lenName": 16,
    "lenType": 16,
    "lenVar": 40
   },
   "kernels_config": {
    "python": {
     "delete_cmd_postfix": "",
     "delete_cmd_prefix": "del ",
     "library": "var_list.py",
     "varRefreshCmd": "print(var_dic_list())"
    },
    "r": {
     "delete_cmd_postfix": ") ",
     "delete_cmd_prefix": "rm(",
     "library": "var_list.r",
     "varRefreshCmd": "cat(var_dic_list()) "
    }
   },
   "position": {
    "height": "410px",
    "left": "708px",
    "right": "49px",
    "top": "124px",
    "width": "523px"
   },
   "types_to_exclude": [
    "module",
    "function",
    "builtin_function_or_method",
    "instance",
    "_Feature"
   ],
   "window_display": false
  }
 },
 "nbformat": 4,
 "nbformat_minor": 4
}
